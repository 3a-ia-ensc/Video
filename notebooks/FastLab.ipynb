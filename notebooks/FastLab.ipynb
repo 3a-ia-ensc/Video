{
  "nbformat": 4,
  "nbformat_minor": 0,
  "metadata": {
    "colab": {
      "name": "FastLab.ipynb",
      "provenance": [],
      "collapsed_sections": []
    },
    "kernelspec": {
      "name": "python3",
      "display_name": "Python 3"
    },
    "accelerator": "TPU"
  },
  "cells": [
    {
      "cell_type": "code",
      "metadata": {
        "id": "TRbcMjdv0HyH"
      },
      "source": [
        "import tensorflow as tf\n",
        "from tensorflow.keras.layers import Input, Conv2D, MaxPool2D, Flatten, Dense, Softmax, LeakyReLU, Dropout\n",
        "from tensorflow.keras import Model\n",
        "\n",
        "import matplotlib.pyplot as plt\n",
        "from PIL import Image\n",
        "import pathlib"
      ],
      "execution_count": 1,
      "outputs": []
    },
    {
      "cell_type": "code",
      "metadata": {
        "id": "QE7QA2yVywTm"
      },
      "source": [
        "dataset_url = 'https://dept-info.labri.fr/~mansenca/GITW_light/DB.zip'\n",
        "#dataset_url = \"https://storage.googleapis.com/download.tensorflow.org/example_images/flower_photos.tgz\"\n",
        "data_dir = tf.keras.utils.get_file(origin=dataset_url,\n",
        "                                   fname='/tmp/test.zip',\n",
        "                                   archive_format='zip',\n",
        "                                   extract=True)\n",
        "# data_dir = pathlib.Path(data_dir)\n",
        "import zipfile\n",
        "with zipfile.ZipFile('/tmp/test.zip', 'r') as zip_ref:\n",
        "    zip_ref.extractall((\"/tmp/data\"))"
      ],
      "execution_count": 2,
      "outputs": []
    },
    {
      "cell_type": "code",
      "metadata": {
        "colab": {
          "base_uri": "https://localhost:8080/",
          "height": 37
        },
        "id": "ML08tLPG7JLN",
        "outputId": "618622c7-f867-40c0-f3b5-f62aaf1e6326"
      },
      "source": [
        "data_dir"
      ],
      "execution_count": 3,
      "outputs": [
        {
          "output_type": "execute_result",
          "data": {
            "application/vnd.google.colaboratory.intrinsic+json": {
              "type": "string"
            },
            "text/plain": [
              "'/tmp/test.zip'"
            ]
          },
          "metadata": {
            "tags": []
          },
          "execution_count": 3
        }
      ]
    },
    {
      "cell_type": "code",
      "metadata": {
        "id": "R666AELkz1HR",
        "colab": {
          "base_uri": "https://localhost:8080/",
          "height": 88
        },
        "outputId": "6dd8781b-1489-4ebd-eee8-8001deb053d8"
      },
      "source": [
        "train = tf.keras.preprocessing.image_dataset_from_directory(\n",
        "  '/tmp/data/DB/train',\n",
        "  image_size=(227, 227),\n",
        "  subset='training',\n",
        "  batch_size=1000,\n",
        "  seed=123,\n",
        "  label_mode='categorical',\n",
        "  validation_split=0.2)\n",
        "\n",
        "\"\"\"test = tf.keras.preprocessing.image_dataset_from_directory(\n",
        "  '/tmp/data/DB/test',\n",
        "  image_size=(227, 227),\n",
        "  batch_size=128,\n",
        "  label_mode = 'categorical')\"\"\""
      ],
      "execution_count": 4,
      "outputs": [
        {
          "output_type": "stream",
          "text": [
            "Found 4736 files belonging to 5 classes.\n",
            "Using 3789 files for training.\n"
          ],
          "name": "stdout"
        },
        {
          "output_type": "execute_result",
          "data": {
            "application/vnd.google.colaboratory.intrinsic+json": {
              "type": "string"
            },
            "text/plain": [
              "\"test = tf.keras.preprocessing.image_dataset_from_directory(\\n  '/tmp/data/DB/test',\\n  image_size=(227, 227),\\n  batch_size=128,\\n  label_mode = 'categorical')\""
            ]
          },
          "metadata": {
            "tags": []
          },
          "execution_count": 4
        }
      ]
    },
    {
      "cell_type": "code",
      "metadata": {
        "id": "5eoHUKsI1rAi"
      },
      "source": [
        "input_size = (227, 227, 3)\n",
        "input_img = Input(input_size)"
      ],
      "execution_count": 5,
      "outputs": []
    },
    {
      "cell_type": "code",
      "metadata": {
        "id": "RK146Sre1ret"
      },
      "source": [
        "normalization_layer = tf.keras.layers.experimental.preprocessing.Rescaling(1./255)(input_img)"
      ],
      "execution_count": 6,
      "outputs": []
    },
    {
      "cell_type": "code",
      "metadata": {
        "id": "2truM7jD1ynf"
      },
      "source": [
        "c1 = Conv2D(filters=1024, kernel_size=(3, 3), strides=(1, 1), padding='valid')(input_img)\n",
        "r1 = LeakyReLU(alpha=0.3)(c1)\n",
        "m1 = MaxPool2D(pool_size=(2, 2), strides=None, padding='valid')(r1)\n",
        "drop1 = Dropout(0.3)(m1)\n",
        "\n",
        "c2 = Conv2D(filters=512, kernel_size=(3, 3), strides=(1, 1), padding='valid')(drop1)\n",
        "r2 = LeakyReLU(alpha=0.3)(c2)\n",
        "m2 = MaxPool2D(pool_size=(2, 2), strides=None, padding='valid')(r2)"
      ],
      "execution_count": 7,
      "outputs": []
    },
    {
      "cell_type": "code",
      "metadata": {
        "id": "3sF7wHLM10fK"
      },
      "source": [
        "flat = Flatten()(m2)\n",
        "d1 = Dense(1024, activation='relu')(flat)\n",
        "d3 = Dense(5, activation='relu')(d1)"
      ],
      "execution_count": null,
      "outputs": []
    },
    {
      "cell_type": "code",
      "metadata": {
        "id": "qmHMEm3512Iy"
      },
      "source": [
        "output = Softmax()(d3)"
      ],
      "execution_count": null,
      "outputs": []
    },
    {
      "cell_type": "code",
      "metadata": {
        "id": "SVQB4zcC143O"
      },
      "source": [
        "model = Model(input_img, output)"
      ],
      "execution_count": null,
      "outputs": []
    },
    {
      "cell_type": "code",
      "metadata": {
        "id": "_Z7_7Jn-17hp"
      },
      "source": [
        "model.summary()"
      ],
      "execution_count": null,
      "outputs": []
    },
    {
      "cell_type": "code",
      "metadata": {
        "id": "k4HdZHh-1-ky"
      },
      "source": [
        "model.compile(optimizer=\"adam\", loss=\"categorical_crossentropy\")"
      ],
      "execution_count": null,
      "outputs": []
    },
    {
      "cell_type": "code",
      "metadata": {
        "id": "J8nTfvXS1_TN"
      },
      "source": [
        "model.fit(\n",
        "    train,\n",
        "    epochs=15\n",
        ")"
      ],
      "execution_count": null,
      "outputs": []
    },
    {
      "cell_type": "code",
      "metadata": {
        "id": "-84IwMxp2BrT"
      },
      "source": [
        "model.evaluate(test)"
      ],
      "execution_count": null,
      "outputs": []
    },
    {
      "cell_type": "code",
      "metadata": {
        "id": "ovoRFd3U2CHK"
      },
      "source": [
        ""
      ],
      "execution_count": null,
      "outputs": []
    }
  ]
}