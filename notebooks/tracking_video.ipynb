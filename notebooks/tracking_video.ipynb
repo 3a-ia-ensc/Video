{
 "cells": [
  {
   "cell_type": "code",
   "execution_count": 3,
   "metadata": {},
   "outputs": [],
   "source": [
    "from os import path, listdir\n",
    "import sys\n",
    "sys.path.append(\"..\")\n",
    "\n",
    "import tensorflow as tf\n",
    "from tensorflow.keras.preprocessing.image import ImageDataGenerator\n",
    "from src.tracking import *"
   ]
  },
  {
   "cell_type": "code",
   "execution_count": 2,
   "metadata": {},
   "outputs": [
    {
     "name": "stdout",
     "output_type": "stream",
     "text": [
      "Found 3568 images belonging to 5 classes.\n"
     ]
    }
   ],
   "source": [
    "test_datagen = ImageDataGenerator()\n",
    "test_generator = test_datagen.flow_from_directory('../DB/test', batch_size = 3568, class_mode = 'categorical', target_size = (227, 227))\n",
    "\n",
    "# On récupère les images d'un batch de la taille du dataset\n",
    "i = 0\n",
    "for image, lab in test_generator:\n",
    "    if i == 0: break # sinon le generator continue sa boucle (??)"
   ]
  },
  {
   "cell_type": "markdown",
   "metadata": {},
   "source": [
    "# Tracking vidéo\n",
    "En partant d'une première détection de l'objet d'intérêt qui prend la forme d'une boite englobante que l'on suppose correcte, on va suivre l'objet sur les frames suivantes.\n",
    "\n",
    "Pour chaque frame, on prend la boîte englobante de la frame précédente, on va créer un set de nouvelles boîtes potentielles. On va ensuite récupérer le \"patch\" de l'image associé à chaque nouvelle boîte englobante et effectuer une prediction à l'aide du modèle précédemment créé. On conservera comme nouvelle boîte celle qui fournira la prédiction la plus précise (pourcentage le plus élevé)."
   ]
  },
  {
   "cell_type": "code",
   "execution_count": 9,
   "metadata": {},
   "outputs": [],
   "source": [
    "# on charge le modèle\n",
    "model = tf.keras.models.load_model('../models/best_models', custom_objects=None, compile=True, options=None)"
   ]
  },
  {
   "cell_type": "code",
   "execution_count": null,
   "metadata": {},
   "outputs": [],
   "source": [
    "# on vérifie les performances sur le jeu de test\n",
    "model.evaluate(image, lab)"
   ]
  },
  {
   "cell_type": "code",
   "execution_count": 11,
   "metadata": {
    "scrolled": true
   },
   "outputs": [
    {
     "name": "stderr",
     "output_type": "stream",
     "text": [
      "\n",
      "\n",
      "  0%|          | 0/186 [00:00<?, ?it/s]\u001b[A\u001b[A\n",
      "\n",
      "  9%|▉         | 17/186 [00:00<00:01, 167.62it/s]\u001b[A\u001b[A"
     ]
    },
    {
     "name": "stdout",
     "output_type": "stream",
     "text": [
      "Video 1 on 27\n",
      "Loading 186 frames\n"
     ]
    },
    {
     "name": "stderr",
     "output_type": "stream",
     "text": [
      "\n",
      "\n",
      " 22%|██▏       | 41/186 [00:00<00:00, 183.55it/s]\u001b[A\u001b[A\n",
      "\n",
      " 33%|███▎      | 61/186 [00:03<00:07, 16.90it/s] \u001b[A\u001b[A\n",
      "\n",
      " 33%|███▎      | 61/186 [00:17<00:07, 16.90it/s]\u001b[A\u001b[A\n",
      "\n",
      " 35%|███▍      | 65/186 [00:17<02:06,  1.05s/it]\u001b[A\u001b[A\n",
      "\n",
      " 35%|███▌      | 66/186 [00:20<03:29,  1.75s/it]\u001b[A\u001b[A\n",
      "\n",
      " 36%|███▌      | 67/186 [00:24<04:29,  2.26s/it]\u001b[A\u001b[A\n",
      "\n",
      " 37%|███▋      | 68/186 [00:27<05:07,  2.60s/it]\u001b[A\u001b[A\n",
      "\n",
      " 37%|███▋      | 69/186 [00:31<05:33,  2.85s/it]\u001b[A\u001b[A\n",
      "\n",
      " 38%|███▊      | 70/186 [00:34<05:47,  2.99s/it]\u001b[A\u001b[A\n",
      "\n",
      " 38%|███▊      | 71/186 [00:37<05:58,  3.11s/it]\u001b[A\u001b[A\n",
      "\n",
      " 39%|███▊      | 72/186 [00:41<06:03,  3.19s/it]\u001b[A\u001b[A\n",
      "\n",
      " 39%|███▉      | 73/186 [00:44<06:05,  3.23s/it]\u001b[A\u001b[A\n",
      "\n",
      " 40%|███▉      | 74/186 [00:47<06:03,  3.25s/it]\u001b[A\u001b[A\n",
      "\n",
      " 40%|████      | 75/186 [00:50<06:01,  3.26s/it]\u001b[A\u001b[A\n",
      "\n",
      " 41%|████      | 76/186 [00:54<05:59,  3.26s/it]\u001b[A\u001b[A\n",
      "\n",
      " 41%|████▏     | 77/186 [00:57<05:56,  3.27s/it]\u001b[A\u001b[A\n",
      "\n",
      " 42%|████▏     | 78/186 [01:00<05:54,  3.29s/it]\u001b[A\u001b[A\n",
      "\n",
      " 42%|████▏     | 79/186 [01:04<05:52,  3.29s/it]\u001b[A\u001b[A\n",
      "\n",
      " 43%|████▎     | 80/186 [01:07<05:49,  3.29s/it]\u001b[A\u001b[A\n",
      "\n",
      " 44%|████▎     | 81/186 [01:10<05:46,  3.30s/it]\u001b[A\u001b[A\n",
      "\n",
      " 44%|████▍     | 82/186 [01:14<05:42,  3.29s/it]\u001b[A\u001b[A\n",
      "\n",
      " 45%|████▍     | 83/186 [01:17<05:38,  3.29s/it]\u001b[A\u001b[A\n",
      "\n",
      " 45%|████▌     | 84/186 [01:20<05:35,  3.29s/it]\u001b[A\u001b[A\n",
      "\n",
      " 46%|████▌     | 85/186 [01:24<05:34,  3.31s/it]\u001b[A\u001b[A\n",
      "\n",
      " 46%|████▌     | 86/186 [01:27<05:32,  3.33s/it]\u001b[A\u001b[A\n",
      "\n",
      " 47%|████▋     | 87/186 [01:30<05:28,  3.32s/it]\u001b[A\u001b[A\n",
      "\n",
      " 47%|████▋     | 88/186 [01:33<05:24,  3.31s/it]\u001b[A\u001b[A\n",
      "\n",
      " 48%|████▊     | 89/186 [01:37<05:21,  3.31s/it]\u001b[A\u001b[A\n",
      "\n",
      " 48%|████▊     | 90/186 [01:40<05:18,  3.32s/it]\u001b[A\u001b[A\n",
      "\n",
      " 49%|████▉     | 91/186 [01:44<05:18,  3.36s/it]\u001b[A\u001b[A\n",
      "\n",
      " 49%|████▉     | 92/186 [01:47<05:16,  3.37s/it]\u001b[A\u001b[A\n",
      "\n",
      " 50%|█████     | 93/186 [01:50<05:14,  3.38s/it]\u001b[A\u001b[A\n",
      "\n",
      " 51%|█████     | 94/186 [01:54<05:08,  3.35s/it]\u001b[A\u001b[A\n",
      "\n",
      " 51%|█████     | 95/186 [01:57<05:03,  3.34s/it]\u001b[A\u001b[A\n",
      "\n",
      " 52%|█████▏    | 96/186 [02:00<05:02,  3.36s/it]\u001b[A\u001b[A\n",
      "\n",
      " 52%|█████▏    | 97/186 [02:04<04:59,  3.37s/it]\u001b[A\u001b[A\n",
      "\n",
      " 53%|█████▎    | 98/186 [02:07<05:00,  3.42s/it]\u001b[A\u001b[A\n",
      "\n",
      " 53%|█████▎    | 99/186 [02:11<05:06,  3.52s/it]\u001b[A\u001b[A\n",
      "\n",
      " 54%|█████▍    | 100/186 [02:15<05:04,  3.54s/it]\u001b[A\u001b[A\n",
      "\n",
      " 54%|█████▍    | 101/186 [02:18<04:59,  3.52s/it]\u001b[A\u001b[A\n",
      "\n",
      " 55%|█████▍    | 102/186 [02:22<04:59,  3.56s/it]\u001b[A\u001b[A\n",
      "\n",
      " 55%|█████▌    | 103/186 [02:25<04:51,  3.52s/it]\u001b[A\u001b[A\n",
      "\n",
      " 56%|█████▌    | 104/186 [02:28<04:42,  3.45s/it]\u001b[A\u001b[A\n",
      "\n",
      " 56%|█████▋    | 105/186 [02:32<04:36,  3.41s/it]\u001b[A\u001b[A\n",
      "\n",
      " 57%|█████▋    | 106/186 [02:35<04:29,  3.37s/it]\u001b[A\u001b[A\n",
      "\n",
      " 58%|█████▊    | 107/186 [02:38<04:24,  3.34s/it]\u001b[A\u001b[A\n",
      "\n",
      " 58%|█████▊    | 108/186 [02:42<04:21,  3.35s/it]\u001b[A\u001b[A\n",
      "\n",
      " 59%|█████▊    | 109/186 [02:45<04:18,  3.36s/it]\u001b[A\u001b[A\n",
      "\n",
      " 59%|█████▉    | 110/186 [02:48<04:15,  3.37s/it]\u001b[A\u001b[A\n",
      "\n",
      " 60%|█████▉    | 111/186 [02:52<04:21,  3.48s/it]\u001b[A\u001b[A\n",
      "\n",
      " 60%|██████    | 112/186 [02:56<04:23,  3.56s/it]\u001b[A\u001b[A\n",
      "\n",
      " 61%|██████    | 113/186 [03:00<04:24,  3.62s/it]\u001b[A\u001b[A\n",
      "\n",
      " 61%|██████▏   | 114/186 [03:03<04:14,  3.53s/it]\u001b[A\u001b[A\n",
      "\n",
      " 62%|██████▏   | 115/186 [03:07<04:14,  3.58s/it]\u001b[A\u001b[A\n",
      "\n",
      " 62%|██████▏   | 116/186 [03:10<04:09,  3.57s/it]\u001b[A\u001b[A\n",
      "\n",
      " 63%|██████▎   | 117/186 [03:14<04:01,  3.50s/it]\u001b[A\u001b[A\n",
      "\n",
      " 63%|██████▎   | 118/186 [03:17<03:54,  3.44s/it]\u001b[A\u001b[A\n",
      "\n",
      " 64%|██████▍   | 119/186 [03:20<03:50,  3.44s/it]\u001b[A\u001b[A\n",
      "\n",
      " 65%|██████▍   | 120/186 [03:24<03:45,  3.41s/it]\u001b[A\u001b[A\n",
      "\n",
      " 65%|██████▌   | 121/186 [03:28<03:55,  3.63s/it]\u001b[A\u001b[A\n",
      "\n",
      " 66%|██████▌   | 122/186 [03:31<03:42,  3.47s/it]\u001b[A\u001b[A\n",
      "\n",
      " 66%|██████▌   | 123/186 [03:34<03:32,  3.37s/it]\u001b[A\u001b[A\n",
      "\n",
      " 67%|██████▋   | 124/186 [03:37<03:24,  3.30s/it]\u001b[A\u001b[A\n",
      "\n",
      " 67%|██████▋   | 125/186 [03:40<03:18,  3.25s/it]\u001b[A\u001b[A\n",
      "\n",
      " 68%|██████▊   | 126/186 [03:44<03:13,  3.23s/it]\u001b[A\u001b[A\n",
      "\n",
      " 68%|██████▊   | 127/186 [03:47<03:09,  3.21s/it]\u001b[A\u001b[A\n",
      "\n",
      " 69%|██████▉   | 128/186 [03:50<03:06,  3.21s/it]\u001b[A\u001b[A\n",
      "\n",
      " 69%|██████▉   | 129/186 [03:53<03:02,  3.20s/it]\u001b[A\u001b[A\n",
      "\n",
      " 70%|██████▉   | 130/186 [03:56<02:57,  3.18s/it]\u001b[A\u001b[A\n",
      "\n",
      " 70%|███████   | 131/186 [03:59<02:54,  3.17s/it]\u001b[A\u001b[A\n",
      "\n",
      " 71%|███████   | 132/186 [04:02<02:50,  3.16s/it]\u001b[A\u001b[A\n",
      "\n",
      " 72%|███████▏  | 133/186 [04:06<02:47,  3.16s/it]\u001b[A\u001b[A\n",
      "\n",
      " 72%|███████▏  | 134/186 [04:09<02:44,  3.17s/it]\u001b[A\u001b[A\n",
      "\n",
      " 73%|███████▎  | 135/186 [04:12<02:41,  3.17s/it]\u001b[A\u001b[A\n",
      "\n",
      " 73%|███████▎  | 136/186 [04:15<02:38,  3.17s/it]\u001b[A\u001b[A\n",
      "\n",
      " 74%|███████▎  | 137/186 [04:18<02:35,  3.18s/it]\u001b[A\u001b[A\n",
      "\n",
      " 74%|███████▍  | 138/186 [04:22<02:32,  3.18s/it]\u001b[A\u001b[A\n",
      "\n",
      " 75%|███████▍  | 139/186 [04:25<02:29,  3.19s/it]\u001b[A\u001b[A\n",
      "\n",
      " 75%|███████▌  | 140/186 [04:28<02:27,  3.20s/it]\u001b[A\u001b[A\n",
      "\n",
      " 76%|███████▌  | 141/186 [04:31<02:23,  3.19s/it]\u001b[A\u001b[A\n",
      "\n",
      " 76%|███████▋  | 142/186 [04:34<02:20,  3.18s/it]\u001b[A\u001b[A\n",
      "\n",
      " 77%|███████▋  | 143/186 [04:38<02:17,  3.20s/it]\u001b[A\u001b[A\n",
      "\n",
      " 77%|███████▋  | 144/186 [04:41<02:14,  3.21s/it]\u001b[A\u001b[A\n",
      "\n",
      " 78%|███████▊  | 145/186 [04:44<02:12,  3.23s/it]\u001b[A\u001b[A\n",
      "\n",
      " 78%|███████▊  | 146/186 [04:47<02:09,  3.23s/it]\u001b[A\u001b[A\n",
      "\n",
      " 79%|███████▉  | 147/186 [04:51<02:07,  3.27s/it]\u001b[A\u001b[A\n",
      "\n",
      " 80%|███████▉  | 148/186 [04:54<02:09,  3.40s/it]\u001b[A\u001b[A\n",
      "\n",
      " 80%|████████  | 149/186 [04:58<02:07,  3.45s/it]\u001b[A\u001b[A\n",
      "\n",
      " 81%|████████  | 150/186 [05:01<02:04,  3.45s/it]\u001b[A\u001b[A\n",
      "\n",
      " 81%|████████  | 151/186 [05:05<01:58,  3.39s/it]\u001b[A\u001b[A\n",
      "\n",
      " 82%|████████▏ | 152/186 [05:08<01:55,  3.39s/it]\u001b[A\u001b[A\n",
      "\n",
      " 82%|████████▏ | 153/186 [05:11<01:51,  3.38s/it]\u001b[A\u001b[A\n",
      "\n",
      " 83%|████████▎ | 154/186 [05:15<01:46,  3.33s/it]\u001b[A\u001b[A\n",
      "\n",
      " 83%|████████▎ | 155/186 [05:18<01:44,  3.36s/it]\u001b[A\u001b[A\n",
      "\n",
      " 84%|████████▍ | 156/186 [05:21<01:40,  3.36s/it]\u001b[A\u001b[A\n",
      "\n",
      " 84%|████████▍ | 157/186 [05:25<01:37,  3.35s/it]\u001b[A\u001b[A\n",
      "\n",
      " 85%|████████▍ | 158/186 [05:28<01:33,  3.35s/it]\u001b[A\u001b[A\n",
      "\n",
      " 85%|████████▌ | 159/186 [05:31<01:30,  3.34s/it]\u001b[A\u001b[A\n",
      "\n",
      " 86%|████████▌ | 160/186 [05:35<01:26,  3.33s/it]\u001b[A\u001b[A\n",
      "\n",
      " 87%|████████▋ | 161/186 [05:38<01:22,  3.29s/it]\u001b[A\u001b[A\n",
      "\n",
      " 87%|████████▋ | 162/186 [05:41<01:18,  3.27s/it]\u001b[A\u001b[A\n",
      "\n",
      " 88%|████████▊ | 163/186 [05:44<01:14,  3.25s/it]\u001b[A\u001b[A\n",
      "\n",
      " 88%|████████▊ | 164/186 [05:48<01:11,  3.25s/it]\u001b[A\u001b[A\n",
      "\n",
      " 89%|████████▊ | 165/186 [05:51<01:08,  3.24s/it]\u001b[A\u001b[A\n",
      "\n",
      " 89%|████████▉ | 166/186 [05:54<01:04,  3.24s/it]\u001b[A\u001b[A\n",
      "\n",
      " 90%|████████▉ | 167/186 [05:57<01:01,  3.24s/it]\u001b[A\u001b[A\n",
      "\n",
      " 90%|█████████ | 168/186 [06:01<01:00,  3.36s/it]\u001b[A\u001b[A\n",
      "\n",
      " 91%|█████████ | 169/186 [06:04<00:57,  3.36s/it]\u001b[A\u001b[A\n",
      "\n",
      " 91%|█████████▏| 170/186 [06:08<00:54,  3.40s/it]\u001b[A\u001b[A\n",
      "\n",
      " 92%|█████████▏| 171/186 [06:12<00:55,  3.72s/it]\u001b[A\u001b[A\n",
      "\n",
      " 92%|█████████▏| 172/186 [06:16<00:52,  3.75s/it]\u001b[A\u001b[A\n",
      "\n",
      " 93%|█████████▎| 173/186 [06:20<00:48,  3.75s/it]\u001b[A\u001b[A\n",
      "\n",
      " 94%|█████████▎| 174/186 [06:24<00:45,  3.76s/it]\u001b[A\u001b[A\n",
      "\n",
      " 94%|█████████▍| 175/186 [06:27<00:40,  3.72s/it]\u001b[A\u001b[A\n",
      "\n",
      " 95%|█████████▍| 176/186 [06:31<00:36,  3.63s/it]\u001b[A\u001b[A\n",
      "\n",
      " 95%|█████████▌| 177/186 [06:35<00:33,  3.77s/it]\u001b[A\u001b[A\n",
      "\n",
      " 96%|█████████▌| 178/186 [06:38<00:29,  3.70s/it]\u001b[A\u001b[A\n",
      "\n",
      " 96%|█████████▌| 179/186 [06:43<00:27,  3.92s/it]\u001b[A\u001b[A\n",
      "\n",
      " 97%|█████████▋| 180/186 [06:47<00:24,  4.00s/it]\u001b[A\u001b[A\n",
      "\n",
      " 97%|█████████▋| 181/186 [06:52<00:21,  4.34s/it]\u001b[A\u001b[A\n",
      "\n",
      " 98%|█████████▊| 182/186 [06:56<00:16,  4.21s/it]\u001b[A\u001b[A\n",
      "\n",
      " 98%|█████████▊| 183/186 [06:59<00:11,  3.98s/it]\u001b[A\u001b[A\n",
      "\n",
      " 99%|█████████▉| 184/186 [07:03<00:07,  3.79s/it]\u001b[A\u001b[A\n",
      "\n",
      " 99%|█████████▉| 185/186 [07:06<00:03,  3.73s/it]\u001b[A\u001b[A\n",
      "\n",
      "100%|██████████| 186/186 [07:10<00:00,  2.31s/it]\u001b[A\u001b[A\n"
     ]
    },
    {
     "ename": "NameError",
     "evalue": "name 'ious_move_to_data' is not defined",
     "output_type": "error",
     "traceback": [
      "\u001b[0;31m---------------------------------------------------------------------------\u001b[0m",
      "\u001b[0;31mNameError\u001b[0m                                 Traceback (most recent call last)",
      "\u001b[0;32m<ipython-input-11-62a65d823371>\u001b[0m in \u001b[0;36m<module>\u001b[0;34m\u001b[0m\n\u001b[1;32m     17\u001b[0m         \u001b[0mmean_iou\u001b[0m \u001b[0;34m=\u001b[0m \u001b[0mnp\u001b[0m\u001b[0;34m.\u001b[0m\u001b[0mmean\u001b[0m\u001b[0;34m(\u001b[0m\u001b[0mlist\u001b[0m\u001b[0;34m(\u001b[0m\u001b[0miou\u001b[0m\u001b[0;34m.\u001b[0m\u001b[0mvalues\u001b[0m\u001b[0;34m(\u001b[0m\u001b[0;34m)\u001b[0m\u001b[0;34m)\u001b[0m\u001b[0;34m)\u001b[0m\u001b[0;34m\u001b[0m\u001b[0;34m\u001b[0m\u001b[0m\n\u001b[1;32m     18\u001b[0m         \u001b[0mious\u001b[0m\u001b[0;34m.\u001b[0m\u001b[0mappend\u001b[0m\u001b[0;34m(\u001b[0m\u001b[0mmean_iou\u001b[0m\u001b[0;34m)\u001b[0m\u001b[0;34m\u001b[0m\u001b[0;34m\u001b[0m\u001b[0m\n\u001b[0;32m---> 19\u001b[0;31m         \u001b[0mprint\u001b[0m\u001b[0;34m(\u001b[0m\u001b[0;34mf'Mean IoU: {np.mean(ious_move_to_data)}'\u001b[0m\u001b[0;34m)\u001b[0m\u001b[0;34m\u001b[0m\u001b[0;34m\u001b[0m\u001b[0m\n\u001b[0m\u001b[1;32m     20\u001b[0m \u001b[0;34m\u001b[0m\u001b[0m\n\u001b[1;32m     21\u001b[0m \u001b[0mprint\u001b[0m\u001b[0;34m(\u001b[0m\u001b[0;34mf'Total Mean IoU: {np.mean(ious)}'\u001b[0m\u001b[0;34m)\u001b[0m\u001b[0;34m\u001b[0m\u001b[0;34m\u001b[0m\u001b[0m\n",
      "\u001b[0;31mNameError\u001b[0m: name 'ious_move_to_data' is not defined"
     ]
    }
   ],
   "source": [
    "ious = []\n",
    "i = 0\n",
    "# Pour toutes les vidéos qui sont dans le jeu de test\n",
    "for file in listdir(\"../GT_test\"):\n",
    "    if file.endswith(\".txt\"):\n",
    "        i += 1\n",
    "        print(f'Video {i} on {len(listdir(\"../GT_test\"))}')\n",
    "        \n",
    "        m = re.search('(.+)_._bboxes\\.txt', file)\n",
    "        name = m.group(1)\n",
    "        \n",
    "        path_video = path.join('..', 'VIDEOS', name + '.mp4')\n",
    "        path_boxes = path.join('..', 'GT_test', file)\n",
    "        \n",
    "        label = get_label(path_video)\n",
    "        predictions, iou = tracking(model, path_video, path_boxes, label, update=None, save_fig=True)\n",
    "        mean_iou = np.mean(list(iou.values()))\n",
    "        ious.append(mean_iou)\n",
    "        print(f'Mean IoU: {np.mean(ious_move_to_data)}')\n",
    "            \n",
    "print(f'Total Mean IoU: {np.mean(ious)}')"
   ]
  },
  {
   "cell_type": "markdown",
   "metadata": {},
   "source": [
    "## Move-to-data\n",
    "Nous implémentons ici la méthode d'apprentissage incrémental \"move-to-data\" décrite dans _Move-to-Data: A new Continual Learning approach with Deep CNNs, Application for image-class recognition_\n",
    "\n",
    "Pour chaque nouvelle image, on met à jour les poids de la dernière couche du réseau en appliquant la formule suivante \n",
    "$$w_j′=w_j+(||w_j||∗\\frac{v_i}{||v_i||} − w_j)*\\epsilon$$"
   ]
  },
  {
   "cell_type": "code",
   "execution_count": 4,
   "metadata": {},
   "outputs": [
    {
     "name": "stderr",
     "output_type": "stream",
     "text": [
      "  9%|▉         | 17/186 [00:00<00:01, 165.55it/s]"
     ]
    },
    {
     "name": "stdout",
     "output_type": "stream",
     "text": [
      "Video 1 on 27\n",
      "Loading 186 frames\n"
     ]
    },
    {
     "name": "stderr",
     "output_type": "stream",
     "text": [
      "100%|██████████| 186/186 [08:31<00:00,  2.75s/it]\n",
      "  8%|▊         | 15/189 [00:00<00:01, 145.88it/s]"
     ]
    },
    {
     "name": "stdout",
     "output_type": "stream",
     "text": [
      "Video 2 on 27\n",
      "Loading 189 frames\n"
     ]
    },
    {
     "name": "stderr",
     "output_type": "stream",
     "text": [
      "100%|██████████| 189/189 [07:30<00:00,  2.39s/it]\n",
      " 10%|▉         | 20/205 [00:00<00:00, 192.98it/s]"
     ]
    },
    {
     "name": "stdout",
     "output_type": "stream",
     "text": [
      "Video 3 on 27\n",
      "Loading 205 frames\n"
     ]
    },
    {
     "name": "stderr",
     "output_type": "stream",
     "text": [
      "100%|██████████| 205/205 [10:15<00:00,  3.00s/it]\n",
      "  8%|▊         | 17/200 [00:00<00:01, 164.02it/s]"
     ]
    },
    {
     "name": "stdout",
     "output_type": "stream",
     "text": [
      "Video 4 on 27\n",
      "Loading 200 frames\n"
     ]
    },
    {
     "name": "stderr",
     "output_type": "stream",
     "text": [
      "100%|██████████| 200/200 [13:43<00:00,  4.12s/it]\n",
      "  0%|          | 0/141 [00:00<?, ?it/s]"
     ]
    },
    {
     "name": "stdout",
     "output_type": "stream",
     "text": [
      "Video 5 on 27\n",
      "Loading 141 frames\n"
     ]
    },
    {
     "name": "stderr",
     "output_type": "stream",
     "text": [
      "100%|██████████| 141/141 [11:22<00:00,  4.84s/it]\n",
      "  6%|▋         | 14/224 [00:00<00:01, 137.06it/s]"
     ]
    },
    {
     "name": "stdout",
     "output_type": "stream",
     "text": [
      "Video 6 on 27\n",
      "Loading 224 frames\n"
     ]
    },
    {
     "name": "stderr",
     "output_type": "stream",
     "text": [
      "100%|██████████| 224/224 [11:12<00:00,  3.00s/it]\n",
      " 10%|▉         | 20/202 [00:00<00:00, 197.44it/s]"
     ]
    },
    {
     "name": "stdout",
     "output_type": "stream",
     "text": [
      "Video 7 on 27\n",
      "Loading 202 frames\n"
     ]
    },
    {
     "name": "stderr",
     "output_type": "stream",
     "text": [
      "100%|██████████| 202/202 [08:13<00:00,  2.44s/it]\n",
      "  0%|          | 0/177 [00:00<?, ?it/s]"
     ]
    },
    {
     "name": "stdout",
     "output_type": "stream",
     "text": [
      "Video 8 on 27\n",
      "Loading 177 frames\n"
     ]
    },
    {
     "name": "stderr",
     "output_type": "stream",
     "text": [
      "100%|██████████| 177/177 [07:41<00:00,  2.61s/it]\n",
      "  7%|▋         | 19/258 [00:00<00:01, 189.08it/s]"
     ]
    },
    {
     "name": "stdout",
     "output_type": "stream",
     "text": [
      "Video 9 on 27\n",
      "Loading 258 frames\n"
     ]
    },
    {
     "name": "stderr",
     "output_type": "stream",
     "text": [
      "100%|██████████| 258/258 [11:55<00:00,  2.77s/it]\n",
      "  0%|          | 0/142 [00:00<?, ?it/s]"
     ]
    },
    {
     "name": "stdout",
     "output_type": "stream",
     "text": [
      "Video 10 on 27\n",
      "Loading 142 frames\n"
     ]
    },
    {
     "name": "stderr",
     "output_type": "stream",
     "text": [
      "100%|██████████| 142/142 [07:32<00:00,  3.19s/it]\n",
      "  8%|▊         | 17/226 [00:00<00:01, 169.71it/s]"
     ]
    },
    {
     "name": "stdout",
     "output_type": "stream",
     "text": [
      "Video 11 on 27\n",
      "Loading 226 frames\n"
     ]
    },
    {
     "name": "stderr",
     "output_type": "stream",
     "text": [
      "100%|██████████| 226/226 [10:07<00:00,  2.69s/it]\n",
      "  9%|▉         | 18/197 [00:00<00:01, 176.87it/s]"
     ]
    },
    {
     "name": "stdout",
     "output_type": "stream",
     "text": [
      "Video 12 on 27\n",
      "Loading 197 frames\n"
     ]
    },
    {
     "name": "stderr",
     "output_type": "stream",
     "text": [
      "100%|██████████| 197/197 [29:52<00:00,  9.10s/it]   \n",
      "  5%|▌         | 17/313 [00:00<00:01, 163.80it/s]"
     ]
    },
    {
     "name": "stdout",
     "output_type": "stream",
     "text": [
      "Video 13 on 27\n",
      "Loading 313 frames\n"
     ]
    },
    {
     "name": "stderr",
     "output_type": "stream",
     "text": [
      "100%|██████████| 313/313 [08:41<00:00,  1.67s/it]\n",
      " 13%|█▎        | 19/146 [00:00<00:00, 186.34it/s]"
     ]
    },
    {
     "name": "stdout",
     "output_type": "stream",
     "text": [
      "Video 14 on 27\n",
      "Loading 146 frames\n"
     ]
    },
    {
     "name": "stderr",
     "output_type": "stream",
     "text": [
      "100%|██████████| 146/146 [05:51<00:00,  2.41s/it]\n",
      " 16%|█▌        | 18/114 [00:00<00:00, 179.96it/s]"
     ]
    },
    {
     "name": "stdout",
     "output_type": "stream",
     "text": [
      "Video 15 on 27\n",
      "Loading 114 frames\n"
     ]
    },
    {
     "name": "stderr",
     "output_type": "stream",
     "text": [
      "100%|██████████| 114/114 [04:39<00:00,  2.45s/it]\n",
      "  8%|▊         | 17/213 [00:00<00:01, 164.55it/s]"
     ]
    },
    {
     "name": "stdout",
     "output_type": "stream",
     "text": [
      "Video 16 on 27\n",
      "Loading 213 frames\n"
     ]
    },
    {
     "name": "stderr",
     "output_type": "stream",
     "text": [
      "100%|██████████| 213/213 [07:41<00:00,  2.17s/it]\n",
      " 10%|▉         | 20/205 [00:00<00:00, 196.69it/s]"
     ]
    },
    {
     "name": "stdout",
     "output_type": "stream",
     "text": [
      "Video 17 on 27\n",
      "Loading 205 frames\n"
     ]
    },
    {
     "name": "stderr",
     "output_type": "stream",
     "text": [
      "100%|██████████| 205/205 [08:25<00:00,  2.47s/it]\n",
      "  0%|          | 0/195 [00:00<?, ?it/s]"
     ]
    },
    {
     "name": "stdout",
     "output_type": "stream",
     "text": [
      "Video 18 on 27\n",
      "Loading 195 frames\n"
     ]
    },
    {
     "name": "stderr",
     "output_type": "stream",
     "text": [
      " 17%|█▋        | 33/195 [00:57<01:46,  1.53it/s]"
     ]
    },
    {
     "ename": "ValueError",
     "evalue": "Failed to convert a NumPy array to a Tensor (Unsupported object type numpy.ndarray).",
     "output_type": "error",
     "traceback": [
      "\u001b[0;31m---------------------------------------------------------------------------\u001b[0m",
      "\u001b[0;31mValueError\u001b[0m                                Traceback (most recent call last)",
      "\u001b[0;32m<ipython-input-4-2e7c64772fb3>\u001b[0m in \u001b[0;36m<module>\u001b[0;34m\u001b[0m\n\u001b[1;32m     16\u001b[0m \u001b[0;34m\u001b[0m\u001b[0m\n\u001b[1;32m     17\u001b[0m         \u001b[0;31m# on lance le tracking en activant le move-to-data, on met à jour le réseau toute les 10 images\u001b[0m\u001b[0;34m\u001b[0m\u001b[0;34m\u001b[0m\u001b[0;34m\u001b[0m\u001b[0m\n\u001b[0;32m---> 18\u001b[0;31m         \u001b[0mpredictions\u001b[0m\u001b[0;34m,\u001b[0m \u001b[0miou\u001b[0m \u001b[0;34m=\u001b[0m \u001b[0mtracking\u001b[0m\u001b[0;34m(\u001b[0m\u001b[0mmodel\u001b[0m\u001b[0;34m,\u001b[0m \u001b[0mpath_video\u001b[0m\u001b[0;34m,\u001b[0m \u001b[0mpath_boxes\u001b[0m\u001b[0;34m,\u001b[0m \u001b[0mlabel\u001b[0m\u001b[0;34m,\u001b[0m \u001b[0mupdate\u001b[0m\u001b[0;34m=\u001b[0m\u001b[0;34m'move-to-data'\u001b[0m\u001b[0;34m,\u001b[0m \u001b[0mepsilon\u001b[0m\u001b[0;34m=\u001b[0m\u001b[0;36m0.0001\u001b[0m\u001b[0;34m,\u001b[0m \u001b[0mn_update\u001b[0m\u001b[0;34m=\u001b[0m\u001b[0;36m10\u001b[0m\u001b[0;34m,\u001b[0m \u001b[0msave_fig\u001b[0m\u001b[0;34m=\u001b[0m\u001b[0;32mTrue\u001b[0m\u001b[0;34m)\u001b[0m\u001b[0;34m\u001b[0m\u001b[0;34m\u001b[0m\u001b[0m\n\u001b[0m\u001b[1;32m     19\u001b[0m         \u001b[0mmean_iou\u001b[0m \u001b[0;34m=\u001b[0m \u001b[0mnp\u001b[0m\u001b[0;34m.\u001b[0m\u001b[0mmean\u001b[0m\u001b[0;34m(\u001b[0m\u001b[0mlist\u001b[0m\u001b[0;34m(\u001b[0m\u001b[0miou\u001b[0m\u001b[0;34m.\u001b[0m\u001b[0mvalues\u001b[0m\u001b[0;34m(\u001b[0m\u001b[0;34m)\u001b[0m\u001b[0;34m)\u001b[0m\u001b[0;34m)\u001b[0m\u001b[0;34m\u001b[0m\u001b[0;34m\u001b[0m\u001b[0m\n\u001b[1;32m     20\u001b[0m         \u001b[0mious_move_to_data\u001b[0m\u001b[0;34m.\u001b[0m\u001b[0mappend\u001b[0m\u001b[0;34m(\u001b[0m\u001b[0mmean_iou\u001b[0m\u001b[0;34m)\u001b[0m\u001b[0;34m\u001b[0m\u001b[0;34m\u001b[0m\u001b[0m\n",
      "\u001b[0;32m~/Documents/Cours/projet-video/src/tracking.py\u001b[0m in \u001b[0;36mtracking\u001b[0;34m(model, video_path, box_path, label, update, n_update, save_fig, epsilon)\u001b[0m\n\u001b[1;32m    226\u001b[0m                         \u001b[0mupdate_batch\u001b[0m\u001b[0;34m.\u001b[0m\u001b[0mappend\u001b[0m\u001b[0;34m(\u001b[0m\u001b[0mpatch\u001b[0m\u001b[0;34m)\u001b[0m\u001b[0;34m\u001b[0m\u001b[0;34m\u001b[0m\u001b[0m\n\u001b[1;32m    227\u001b[0m                     \u001b[0;32melse\u001b[0m\u001b[0;34m:\u001b[0m\u001b[0;34m\u001b[0m\u001b[0;34m\u001b[0m\u001b[0m\n\u001b[0;32m--> 228\u001b[0;31m                         \u001b[0mmove_to_data\u001b[0m\u001b[0;34m(\u001b[0m\u001b[0mmodel\u001b[0m\u001b[0;34m,\u001b[0m \u001b[0mnp\u001b[0m\u001b[0;34m.\u001b[0m\u001b[0marray\u001b[0m\u001b[0;34m(\u001b[0m\u001b[0mupdate_batch\u001b[0m\u001b[0;34m)\u001b[0m\u001b[0;34m,\u001b[0m \u001b[0mepsilon\u001b[0m\u001b[0;34m,\u001b[0m \u001b[0mlabel\u001b[0m\u001b[0;34m)\u001b[0m\u001b[0;34m\u001b[0m\u001b[0;34m\u001b[0m\u001b[0m\n\u001b[0m\u001b[1;32m    229\u001b[0m                         \u001b[0mupdate_batch\u001b[0m \u001b[0;34m=\u001b[0m \u001b[0;34m[\u001b[0m\u001b[0;34m]\u001b[0m\u001b[0;34m\u001b[0m\u001b[0;34m\u001b[0m\u001b[0m\n\u001b[1;32m    230\u001b[0m                 \u001b[0;32melif\u001b[0m \u001b[0mupdate\u001b[0m \u001b[0;34m==\u001b[0m \u001b[0;34m'fine-tuning'\u001b[0m\u001b[0;34m:\u001b[0m\u001b[0;34m\u001b[0m\u001b[0;34m\u001b[0m\u001b[0m\n",
      "\u001b[0;32m~/Documents/Cours/projet-video/src/tracking.py\u001b[0m in \u001b[0;36mmove_to_data\u001b[0;34m(model, images, epsilon, j)\u001b[0m\n\u001b[1;32m    313\u001b[0m     \u001b[0mmModel\u001b[0m \u001b[0;34m=\u001b[0m \u001b[0mtf\u001b[0m\u001b[0;34m.\u001b[0m\u001b[0mkeras\u001b[0m\u001b[0;34m.\u001b[0m\u001b[0mModel\u001b[0m\u001b[0;34m(\u001b[0m\u001b[0moutputs\u001b[0m\u001b[0;34m[\u001b[0m\u001b[0;36m0\u001b[0m\u001b[0;34m]\u001b[0m\u001b[0;34m.\u001b[0m\u001b[0moutput\u001b[0m\u001b[0;34m,\u001b[0m \u001b[0;34m[\u001b[0m\u001b[0moutputs\u001b[0m\u001b[0;34m[\u001b[0m\u001b[0;34m-\u001b[0m\u001b[0;36m2\u001b[0m\u001b[0;34m]\u001b[0m\u001b[0;34m.\u001b[0m\u001b[0moutput\u001b[0m\u001b[0;34m,\u001b[0m \u001b[0moutputs\u001b[0m\u001b[0;34m[\u001b[0m\u001b[0;34m-\u001b[0m\u001b[0;36m1\u001b[0m\u001b[0;34m]\u001b[0m\u001b[0;34m.\u001b[0m\u001b[0moutput\u001b[0m\u001b[0;34m]\u001b[0m\u001b[0;34m)\u001b[0m\u001b[0;34m\u001b[0m\u001b[0;34m\u001b[0m\u001b[0m\n\u001b[1;32m    314\u001b[0m     \u001b[0mmModel\u001b[0m\u001b[0;34m.\u001b[0m\u001b[0mcompile\u001b[0m\u001b[0;34m(\u001b[0m\u001b[0moptimizer\u001b[0m\u001b[0;34m=\u001b[0m\u001b[0;34m'adam'\u001b[0m\u001b[0;34m,\u001b[0m \u001b[0mloss\u001b[0m\u001b[0;34m=\u001b[0m\u001b[0;34m'categorical_crossentropy'\u001b[0m\u001b[0;34m)\u001b[0m\u001b[0;34m\u001b[0m\u001b[0;34m\u001b[0m\u001b[0m\n\u001b[0;32m--> 315\u001b[0;31m     \u001b[0my_\u001b[0m\u001b[0;34m,\u001b[0m \u001b[0m_\u001b[0m \u001b[0;34m=\u001b[0m \u001b[0mmModel\u001b[0m\u001b[0;34m(\u001b[0m\u001b[0mimages\u001b[0m\u001b[0;34m)\u001b[0m\u001b[0;34m\u001b[0m\u001b[0;34m\u001b[0m\u001b[0m\n\u001b[0m\u001b[1;32m    316\u001b[0m \u001b[0;34m\u001b[0m\u001b[0m\n\u001b[1;32m    317\u001b[0m     \u001b[0mw_j\u001b[0m \u001b[0;34m=\u001b[0m \u001b[0mw\u001b[0m\u001b[0;34m[\u001b[0m\u001b[0;34m:\u001b[0m\u001b[0;34m,\u001b[0m \u001b[0mj\u001b[0m\u001b[0;34m]\u001b[0m\u001b[0;34m\u001b[0m\u001b[0;34m\u001b[0m\u001b[0m\n",
      "\u001b[0;32m/Library/Frameworks/Python.framework/Versions/3.8/lib/python3.8/site-packages/tensorflow/python/keras/engine/base_layer.py\u001b[0m in \u001b[0;36m__call__\u001b[0;34m(self, *args, **kwargs)\u001b[0m\n\u001b[1;32m    931\u001b[0m     \u001b[0;31m# Accept NumPy and scalar inputs by converting to Tensors.\u001b[0m\u001b[0;34m\u001b[0m\u001b[0;34m\u001b[0m\u001b[0;34m\u001b[0m\u001b[0m\n\u001b[1;32m    932\u001b[0m     \u001b[0;32mif\u001b[0m \u001b[0many\u001b[0m\u001b[0;34m(\u001b[0m\u001b[0misinstance\u001b[0m\u001b[0;34m(\u001b[0m\u001b[0mx\u001b[0m\u001b[0;34m,\u001b[0m \u001b[0;34m(\u001b[0m\u001b[0mnp\u001b[0m\u001b[0;34m.\u001b[0m\u001b[0mndarray\u001b[0m\u001b[0;34m,\u001b[0m \u001b[0mfloat\u001b[0m\u001b[0;34m,\u001b[0m \u001b[0mint\u001b[0m\u001b[0;34m)\u001b[0m\u001b[0;34m)\u001b[0m \u001b[0;32mfor\u001b[0m \u001b[0mx\u001b[0m \u001b[0;32min\u001b[0m \u001b[0minput_list\u001b[0m\u001b[0;34m)\u001b[0m\u001b[0;34m:\u001b[0m\u001b[0;34m\u001b[0m\u001b[0;34m\u001b[0m\u001b[0m\n\u001b[0;32m--> 933\u001b[0;31m       \u001b[0minputs\u001b[0m \u001b[0;34m=\u001b[0m \u001b[0mnest\u001b[0m\u001b[0;34m.\u001b[0m\u001b[0mmap_structure\u001b[0m\u001b[0;34m(\u001b[0m\u001b[0m_convert_numpy_or_python_types\u001b[0m\u001b[0;34m,\u001b[0m \u001b[0minputs\u001b[0m\u001b[0;34m)\u001b[0m\u001b[0;34m\u001b[0m\u001b[0;34m\u001b[0m\u001b[0m\n\u001b[0m\u001b[1;32m    934\u001b[0m       \u001b[0minput_list\u001b[0m \u001b[0;34m=\u001b[0m \u001b[0mnest\u001b[0m\u001b[0;34m.\u001b[0m\u001b[0mflatten\u001b[0m\u001b[0;34m(\u001b[0m\u001b[0minputs\u001b[0m\u001b[0;34m)\u001b[0m\u001b[0;34m\u001b[0m\u001b[0;34m\u001b[0m\u001b[0m\n\u001b[1;32m    935\u001b[0m \u001b[0;34m\u001b[0m\u001b[0m\n",
      "\u001b[0;32m/Library/Frameworks/Python.framework/Versions/3.8/lib/python3.8/site-packages/tensorflow/python/util/nest.py\u001b[0m in \u001b[0;36mmap_structure\u001b[0;34m(func, *structure, **kwargs)\u001b[0m\n\u001b[1;32m    633\u001b[0m \u001b[0;34m\u001b[0m\u001b[0m\n\u001b[1;32m    634\u001b[0m   return pack_sequence_as(\n\u001b[0;32m--> 635\u001b[0;31m       \u001b[0mstructure\u001b[0m\u001b[0;34m[\u001b[0m\u001b[0;36m0\u001b[0m\u001b[0;34m]\u001b[0m\u001b[0;34m,\u001b[0m \u001b[0;34m[\u001b[0m\u001b[0mfunc\u001b[0m\u001b[0;34m(\u001b[0m\u001b[0;34m*\u001b[0m\u001b[0mx\u001b[0m\u001b[0;34m)\u001b[0m \u001b[0;32mfor\u001b[0m \u001b[0mx\u001b[0m \u001b[0;32min\u001b[0m \u001b[0mentries\u001b[0m\u001b[0;34m]\u001b[0m\u001b[0;34m,\u001b[0m\u001b[0;34m\u001b[0m\u001b[0;34m\u001b[0m\u001b[0m\n\u001b[0m\u001b[1;32m    636\u001b[0m       expand_composites=expand_composites)\n\u001b[1;32m    637\u001b[0m \u001b[0;34m\u001b[0m\u001b[0m\n",
      "\u001b[0;32m/Library/Frameworks/Python.framework/Versions/3.8/lib/python3.8/site-packages/tensorflow/python/util/nest.py\u001b[0m in \u001b[0;36m<listcomp>\u001b[0;34m(.0)\u001b[0m\n\u001b[1;32m    633\u001b[0m \u001b[0;34m\u001b[0m\u001b[0m\n\u001b[1;32m    634\u001b[0m   return pack_sequence_as(\n\u001b[0;32m--> 635\u001b[0;31m       \u001b[0mstructure\u001b[0m\u001b[0;34m[\u001b[0m\u001b[0;36m0\u001b[0m\u001b[0;34m]\u001b[0m\u001b[0;34m,\u001b[0m \u001b[0;34m[\u001b[0m\u001b[0mfunc\u001b[0m\u001b[0;34m(\u001b[0m\u001b[0;34m*\u001b[0m\u001b[0mx\u001b[0m\u001b[0;34m)\u001b[0m \u001b[0;32mfor\u001b[0m \u001b[0mx\u001b[0m \u001b[0;32min\u001b[0m \u001b[0mentries\u001b[0m\u001b[0;34m]\u001b[0m\u001b[0;34m,\u001b[0m\u001b[0;34m\u001b[0m\u001b[0;34m\u001b[0m\u001b[0m\n\u001b[0m\u001b[1;32m    636\u001b[0m       expand_composites=expand_composites)\n\u001b[1;32m    637\u001b[0m \u001b[0;34m\u001b[0m\u001b[0m\n",
      "\u001b[0;32m/Library/Frameworks/Python.framework/Versions/3.8/lib/python3.8/site-packages/tensorflow/python/keras/engine/base_layer.py\u001b[0m in \u001b[0;36m_convert_numpy_or_python_types\u001b[0;34m(x)\u001b[0m\n\u001b[1;32m   3237\u001b[0m \u001b[0;32mdef\u001b[0m \u001b[0m_convert_numpy_or_python_types\u001b[0m\u001b[0;34m(\u001b[0m\u001b[0mx\u001b[0m\u001b[0;34m)\u001b[0m\u001b[0;34m:\u001b[0m\u001b[0;34m\u001b[0m\u001b[0;34m\u001b[0m\u001b[0m\n\u001b[1;32m   3238\u001b[0m   \u001b[0;32mif\u001b[0m \u001b[0misinstance\u001b[0m\u001b[0;34m(\u001b[0m\u001b[0mx\u001b[0m\u001b[0;34m,\u001b[0m \u001b[0;34m(\u001b[0m\u001b[0mnp\u001b[0m\u001b[0;34m.\u001b[0m\u001b[0mndarray\u001b[0m\u001b[0;34m,\u001b[0m \u001b[0mfloat\u001b[0m\u001b[0;34m,\u001b[0m \u001b[0mint\u001b[0m\u001b[0;34m)\u001b[0m\u001b[0;34m)\u001b[0m\u001b[0;34m:\u001b[0m\u001b[0;34m\u001b[0m\u001b[0;34m\u001b[0m\u001b[0m\n\u001b[0;32m-> 3239\u001b[0;31m     \u001b[0;32mreturn\u001b[0m \u001b[0mops\u001b[0m\u001b[0;34m.\u001b[0m\u001b[0mconvert_to_tensor_v2\u001b[0m\u001b[0;34m(\u001b[0m\u001b[0mx\u001b[0m\u001b[0;34m)\u001b[0m\u001b[0;34m\u001b[0m\u001b[0;34m\u001b[0m\u001b[0m\n\u001b[0m\u001b[1;32m   3240\u001b[0m   \u001b[0;32mreturn\u001b[0m \u001b[0mx\u001b[0m\u001b[0;34m\u001b[0m\u001b[0;34m\u001b[0m\u001b[0m\n\u001b[1;32m   3241\u001b[0m \u001b[0;34m\u001b[0m\u001b[0m\n",
      "\u001b[0;32m/Library/Frameworks/Python.framework/Versions/3.8/lib/python3.8/site-packages/tensorflow/python/framework/ops.py\u001b[0m in \u001b[0;36mconvert_to_tensor_v2\u001b[0;34m(value, dtype, dtype_hint, name)\u001b[0m\n\u001b[1;32m   1375\u001b[0m     \u001b[0mValueError\u001b[0m\u001b[0;34m:\u001b[0m \u001b[0mIf\u001b[0m \u001b[0mthe\u001b[0m\u001b[0;31m \u001b[0m\u001b[0;31m`\u001b[0m\u001b[0mvalue\u001b[0m\u001b[0;31m`\u001b[0m \u001b[0;32mis\u001b[0m \u001b[0ma\u001b[0m \u001b[0mtensor\u001b[0m \u001b[0;32mnot\u001b[0m \u001b[0mof\u001b[0m \u001b[0mgiven\u001b[0m\u001b[0;31m \u001b[0m\u001b[0;31m`\u001b[0m\u001b[0mdtype\u001b[0m\u001b[0;31m`\u001b[0m \u001b[0;32min\u001b[0m \u001b[0mgraph\u001b[0m \u001b[0mmode\u001b[0m\u001b[0;34m.\u001b[0m\u001b[0;34m\u001b[0m\u001b[0;34m\u001b[0m\u001b[0m\n\u001b[1;32m   1376\u001b[0m   \"\"\"\n\u001b[0;32m-> 1377\u001b[0;31m   return convert_to_tensor(\n\u001b[0m\u001b[1;32m   1378\u001b[0m       \u001b[0mvalue\u001b[0m\u001b[0;34m=\u001b[0m\u001b[0mvalue\u001b[0m\u001b[0;34m,\u001b[0m\u001b[0;34m\u001b[0m\u001b[0;34m\u001b[0m\u001b[0m\n\u001b[1;32m   1379\u001b[0m       \u001b[0mdtype\u001b[0m\u001b[0;34m=\u001b[0m\u001b[0mdtype\u001b[0m\u001b[0;34m,\u001b[0m\u001b[0;34m\u001b[0m\u001b[0;34m\u001b[0m\u001b[0m\n",
      "\u001b[0;32m/Library/Frameworks/Python.framework/Versions/3.8/lib/python3.8/site-packages/tensorflow/python/framework/ops.py\u001b[0m in \u001b[0;36mconvert_to_tensor\u001b[0;34m(value, dtype, name, as_ref, preferred_dtype, dtype_hint, ctx, accepted_result_types)\u001b[0m\n\u001b[1;32m   1497\u001b[0m \u001b[0;34m\u001b[0m\u001b[0m\n\u001b[1;32m   1498\u001b[0m     \u001b[0;32mif\u001b[0m \u001b[0mret\u001b[0m \u001b[0;32mis\u001b[0m \u001b[0;32mNone\u001b[0m\u001b[0;34m:\u001b[0m\u001b[0;34m\u001b[0m\u001b[0;34m\u001b[0m\u001b[0m\n\u001b[0;32m-> 1499\u001b[0;31m       \u001b[0mret\u001b[0m \u001b[0;34m=\u001b[0m \u001b[0mconversion_func\u001b[0m\u001b[0;34m(\u001b[0m\u001b[0mvalue\u001b[0m\u001b[0;34m,\u001b[0m \u001b[0mdtype\u001b[0m\u001b[0;34m=\u001b[0m\u001b[0mdtype\u001b[0m\u001b[0;34m,\u001b[0m \u001b[0mname\u001b[0m\u001b[0;34m=\u001b[0m\u001b[0mname\u001b[0m\u001b[0;34m,\u001b[0m \u001b[0mas_ref\u001b[0m\u001b[0;34m=\u001b[0m\u001b[0mas_ref\u001b[0m\u001b[0;34m)\u001b[0m\u001b[0;34m\u001b[0m\u001b[0;34m\u001b[0m\u001b[0m\n\u001b[0m\u001b[1;32m   1500\u001b[0m \u001b[0;34m\u001b[0m\u001b[0m\n\u001b[1;32m   1501\u001b[0m     \u001b[0;32mif\u001b[0m \u001b[0mret\u001b[0m \u001b[0;32mis\u001b[0m \u001b[0mNotImplemented\u001b[0m\u001b[0;34m:\u001b[0m\u001b[0;34m\u001b[0m\u001b[0;34m\u001b[0m\u001b[0m\n",
      "\u001b[0;32m/Library/Frameworks/Python.framework/Versions/3.8/lib/python3.8/site-packages/tensorflow/python/framework/tensor_conversion_registry.py\u001b[0m in \u001b[0;36m_default_conversion_function\u001b[0;34m(***failed resolving arguments***)\u001b[0m\n\u001b[1;32m     50\u001b[0m \u001b[0;32mdef\u001b[0m \u001b[0m_default_conversion_function\u001b[0m\u001b[0;34m(\u001b[0m\u001b[0mvalue\u001b[0m\u001b[0;34m,\u001b[0m \u001b[0mdtype\u001b[0m\u001b[0;34m,\u001b[0m \u001b[0mname\u001b[0m\u001b[0;34m,\u001b[0m \u001b[0mas_ref\u001b[0m\u001b[0;34m)\u001b[0m\u001b[0;34m:\u001b[0m\u001b[0;34m\u001b[0m\u001b[0;34m\u001b[0m\u001b[0m\n\u001b[1;32m     51\u001b[0m   \u001b[0;32mdel\u001b[0m \u001b[0mas_ref\u001b[0m  \u001b[0;31m# Unused.\u001b[0m\u001b[0;34m\u001b[0m\u001b[0;34m\u001b[0m\u001b[0m\n\u001b[0;32m---> 52\u001b[0;31m   \u001b[0;32mreturn\u001b[0m \u001b[0mconstant_op\u001b[0m\u001b[0;34m.\u001b[0m\u001b[0mconstant\u001b[0m\u001b[0;34m(\u001b[0m\u001b[0mvalue\u001b[0m\u001b[0;34m,\u001b[0m \u001b[0mdtype\u001b[0m\u001b[0;34m,\u001b[0m \u001b[0mname\u001b[0m\u001b[0;34m=\u001b[0m\u001b[0mname\u001b[0m\u001b[0;34m)\u001b[0m\u001b[0;34m\u001b[0m\u001b[0;34m\u001b[0m\u001b[0m\n\u001b[0m\u001b[1;32m     53\u001b[0m \u001b[0;34m\u001b[0m\u001b[0m\n\u001b[1;32m     54\u001b[0m \u001b[0;34m\u001b[0m\u001b[0m\n",
      "\u001b[0;32m/Library/Frameworks/Python.framework/Versions/3.8/lib/python3.8/site-packages/tensorflow/python/framework/constant_op.py\u001b[0m in \u001b[0;36mconstant\u001b[0;34m(value, dtype, shape, name)\u001b[0m\n\u001b[1;32m    261\u001b[0m     \u001b[0mValueError\u001b[0m\u001b[0;34m:\u001b[0m \u001b[0;32mif\u001b[0m \u001b[0mcalled\u001b[0m \u001b[0mon\u001b[0m \u001b[0ma\u001b[0m \u001b[0msymbolic\u001b[0m \u001b[0mtensor\u001b[0m\u001b[0;34m.\u001b[0m\u001b[0;34m\u001b[0m\u001b[0;34m\u001b[0m\u001b[0m\n\u001b[1;32m    262\u001b[0m   \"\"\"\n\u001b[0;32m--> 263\u001b[0;31m   return _constant_impl(value, dtype, shape, name, verify_shape=False,\n\u001b[0m\u001b[1;32m    264\u001b[0m                         allow_broadcast=True)\n\u001b[1;32m    265\u001b[0m \u001b[0;34m\u001b[0m\u001b[0m\n",
      "\u001b[0;32m/Library/Frameworks/Python.framework/Versions/3.8/lib/python3.8/site-packages/tensorflow/python/framework/constant_op.py\u001b[0m in \u001b[0;36m_constant_impl\u001b[0;34m(value, dtype, shape, name, verify_shape, allow_broadcast)\u001b[0m\n\u001b[1;32m    273\u001b[0m       \u001b[0;32mwith\u001b[0m \u001b[0mtrace\u001b[0m\u001b[0;34m.\u001b[0m\u001b[0mTrace\u001b[0m\u001b[0;34m(\u001b[0m\u001b[0;34m\"tf.constant\"\u001b[0m\u001b[0;34m)\u001b[0m\u001b[0;34m:\u001b[0m\u001b[0;34m\u001b[0m\u001b[0;34m\u001b[0m\u001b[0m\n\u001b[1;32m    274\u001b[0m         \u001b[0;32mreturn\u001b[0m \u001b[0m_constant_eager_impl\u001b[0m\u001b[0;34m(\u001b[0m\u001b[0mctx\u001b[0m\u001b[0;34m,\u001b[0m \u001b[0mvalue\u001b[0m\u001b[0;34m,\u001b[0m \u001b[0mdtype\u001b[0m\u001b[0;34m,\u001b[0m \u001b[0mshape\u001b[0m\u001b[0;34m,\u001b[0m \u001b[0mverify_shape\u001b[0m\u001b[0;34m)\u001b[0m\u001b[0;34m\u001b[0m\u001b[0;34m\u001b[0m\u001b[0m\n\u001b[0;32m--> 275\u001b[0;31m     \u001b[0;32mreturn\u001b[0m \u001b[0m_constant_eager_impl\u001b[0m\u001b[0;34m(\u001b[0m\u001b[0mctx\u001b[0m\u001b[0;34m,\u001b[0m \u001b[0mvalue\u001b[0m\u001b[0;34m,\u001b[0m \u001b[0mdtype\u001b[0m\u001b[0;34m,\u001b[0m \u001b[0mshape\u001b[0m\u001b[0;34m,\u001b[0m \u001b[0mverify_shape\u001b[0m\u001b[0;34m)\u001b[0m\u001b[0;34m\u001b[0m\u001b[0;34m\u001b[0m\u001b[0m\n\u001b[0m\u001b[1;32m    276\u001b[0m \u001b[0;34m\u001b[0m\u001b[0m\n\u001b[1;32m    277\u001b[0m   \u001b[0mg\u001b[0m \u001b[0;34m=\u001b[0m \u001b[0mops\u001b[0m\u001b[0;34m.\u001b[0m\u001b[0mget_default_graph\u001b[0m\u001b[0;34m(\u001b[0m\u001b[0;34m)\u001b[0m\u001b[0;34m\u001b[0m\u001b[0;34m\u001b[0m\u001b[0m\n",
      "\u001b[0;32m/Library/Frameworks/Python.framework/Versions/3.8/lib/python3.8/site-packages/tensorflow/python/framework/constant_op.py\u001b[0m in \u001b[0;36m_constant_eager_impl\u001b[0;34m(ctx, value, dtype, shape, verify_shape)\u001b[0m\n\u001b[1;32m    298\u001b[0m \u001b[0;32mdef\u001b[0m \u001b[0m_constant_eager_impl\u001b[0m\u001b[0;34m(\u001b[0m\u001b[0mctx\u001b[0m\u001b[0;34m,\u001b[0m \u001b[0mvalue\u001b[0m\u001b[0;34m,\u001b[0m \u001b[0mdtype\u001b[0m\u001b[0;34m,\u001b[0m \u001b[0mshape\u001b[0m\u001b[0;34m,\u001b[0m \u001b[0mverify_shape\u001b[0m\u001b[0;34m)\u001b[0m\u001b[0;34m:\u001b[0m\u001b[0;34m\u001b[0m\u001b[0;34m\u001b[0m\u001b[0m\n\u001b[1;32m    299\u001b[0m   \u001b[0;34m\"\"\"Implementation of eager constant.\"\"\"\u001b[0m\u001b[0;34m\u001b[0m\u001b[0;34m\u001b[0m\u001b[0m\n\u001b[0;32m--> 300\u001b[0;31m   \u001b[0mt\u001b[0m \u001b[0;34m=\u001b[0m \u001b[0mconvert_to_eager_tensor\u001b[0m\u001b[0;34m(\u001b[0m\u001b[0mvalue\u001b[0m\u001b[0;34m,\u001b[0m \u001b[0mctx\u001b[0m\u001b[0;34m,\u001b[0m \u001b[0mdtype\u001b[0m\u001b[0;34m)\u001b[0m\u001b[0;34m\u001b[0m\u001b[0;34m\u001b[0m\u001b[0m\n\u001b[0m\u001b[1;32m    301\u001b[0m   \u001b[0;32mif\u001b[0m \u001b[0mshape\u001b[0m \u001b[0;32mis\u001b[0m \u001b[0;32mNone\u001b[0m\u001b[0;34m:\u001b[0m\u001b[0;34m\u001b[0m\u001b[0;34m\u001b[0m\u001b[0m\n\u001b[1;32m    302\u001b[0m     \u001b[0;32mreturn\u001b[0m \u001b[0mt\u001b[0m\u001b[0;34m\u001b[0m\u001b[0;34m\u001b[0m\u001b[0m\n",
      "\u001b[0;32m/Library/Frameworks/Python.framework/Versions/3.8/lib/python3.8/site-packages/tensorflow/python/framework/constant_op.py\u001b[0m in \u001b[0;36mconvert_to_eager_tensor\u001b[0;34m(value, ctx, dtype)\u001b[0m\n\u001b[1;32m     96\u001b[0m       \u001b[0mdtype\u001b[0m \u001b[0;34m=\u001b[0m \u001b[0mdtypes\u001b[0m\u001b[0;34m.\u001b[0m\u001b[0mas_dtype\u001b[0m\u001b[0;34m(\u001b[0m\u001b[0mdtype\u001b[0m\u001b[0;34m)\u001b[0m\u001b[0;34m.\u001b[0m\u001b[0mas_datatype_enum\u001b[0m\u001b[0;34m\u001b[0m\u001b[0;34m\u001b[0m\u001b[0m\n\u001b[1;32m     97\u001b[0m   \u001b[0mctx\u001b[0m\u001b[0;34m.\u001b[0m\u001b[0mensure_initialized\u001b[0m\u001b[0;34m(\u001b[0m\u001b[0;34m)\u001b[0m\u001b[0;34m\u001b[0m\u001b[0;34m\u001b[0m\u001b[0m\n\u001b[0;32m---> 98\u001b[0;31m   \u001b[0;32mreturn\u001b[0m \u001b[0mops\u001b[0m\u001b[0;34m.\u001b[0m\u001b[0mEagerTensor\u001b[0m\u001b[0;34m(\u001b[0m\u001b[0mvalue\u001b[0m\u001b[0;34m,\u001b[0m \u001b[0mctx\u001b[0m\u001b[0;34m.\u001b[0m\u001b[0mdevice_name\u001b[0m\u001b[0;34m,\u001b[0m \u001b[0mdtype\u001b[0m\u001b[0;34m)\u001b[0m\u001b[0;34m\u001b[0m\u001b[0;34m\u001b[0m\u001b[0m\n\u001b[0m\u001b[1;32m     99\u001b[0m \u001b[0;34m\u001b[0m\u001b[0m\n\u001b[1;32m    100\u001b[0m \u001b[0;34m\u001b[0m\u001b[0m\n",
      "\u001b[0;31mValueError\u001b[0m: Failed to convert a NumPy array to a Tensor (Unsupported object type numpy.ndarray)."
     ]
    }
   ],
   "source": [
    "ious_move_to_data = []\n",
    "i = 0\n",
    "# Pour toutes les vidéos qui sont dans le jeu de test\n",
    "for file in listdir(\"../GT_test\"):\n",
    "    if file.endswith(\".txt\"):\n",
    "        i += 1\n",
    "        print(f'Video {i} on {len(listdir(\"../GT_test\"))}')\n",
    "        \n",
    "        m = re.search('(.+)_._bboxes\\.txt', file)\n",
    "        name = m.group(1)\n",
    "        \n",
    "        path_video = path.join('..', 'VIDEOS', name + '.mp4')\n",
    "        path_boxes = path.join('..', 'GT_test', file)\n",
    "        \n",
    "        label = get_label(path_video)\n",
    "        \n",
    "        # on lance le tracking en activant le move-to-data, on met à jour le réseau toute les 10 images\n",
    "        predictions, iou = tracking(model, path_video, path_boxes, label, update='move-to-data', epsilon=0.0001, n_update=10, save_fig=True)\n",
    "        mean_iou = np.mean(list(iou.values()))\n",
    "        ious_move_to_data.append(mean_iou)\n",
    "        print(f'Mean IoU: {np.mean(ious_move_to_data)}')\n",
    "\n",
    "print(f'Total Mean IoU: {np.mean(ious_move_to_data)}')"
   ]
  },
  {
   "cell_type": "code",
   "execution_count": null,
   "metadata": {},
   "outputs": [],
   "source": [
    "# on évalue les modifications apportées au modèle à l'aide des images de test\n",
    "model.evaluate(image, lab)  "
   ]
  },
  {
   "cell_type": "markdown",
   "metadata": {},
   "source": [
    "## Fine-tuning\n",
    "Pour comparer la méthode move-to-data on implémente une méthode déjà éprouvée, le fine-tuning consiste à réentrainer la dernière couche du réseau avec de nouveaux batch d'image"
   ]
  },
  {
   "cell_type": "code",
   "execution_count": null,
   "metadata": {},
   "outputs": [],
   "source": [
    "# on recharge le modèle pour ne pas écraser celui modifié par le move-to-data\n",
    "model_fine = tf.keras.models.load_model('../models/best_models', custom_objects=None, compile=True, options=None)\n",
    "\n",
    "ious_fine_tuning = []\n",
    "i = 0\n",
    "# Pour toutes les vidéos qui sont dans le jeu de test\n",
    "for file in listdir(\"../GT_test\"):\n",
    "    if file.endswith(\".txt\"):\n",
    "        i += 1\n",
    "        print(f'Video {i} on {len(listdir(\"../GT_test\"))}')\n",
    "        \n",
    "        m = re.search('(.+)_._bboxes\\.txt', file)\n",
    "        name = m.group(1)\n",
    "        \n",
    "        path_video = path.join('..', 'VIDEOS', name + '.mp4')\n",
    "        path_boxes = path.join('..', 'GT_test', file)\n",
    "        \n",
    "        label = get_label(path_video)\n",
    "        \n",
    "        # on lance le tracking en activant le fine-tuning, on met à jour le réseau toutes les 10 images\n",
    "        predictions, iou = tracking(model_fine, path_video, path_boxes, label, update='fine-tuning', epsilon=0.0001, n_update=10, save_fig=False)\n",
    "        mean_iou = np.mean(list(iou.values()))\n",
    "        ious_fine_tuning.append(mean_iou)\n",
    "        \n",
    "print(f'Mean IoU: {np.mean(ious_fine_tuning)}')"
   ]
  },
  {
   "cell_type": "code",
   "execution_count": null,
   "metadata": {},
   "outputs": [],
   "source": [
    "# on évalue les modifications apportées au modèle à l'aide des images de test\n",
    "model_fine.evaluate(image, lab)  "
   ]
  },
  {
   "cell_type": "markdown",
   "metadata": {},
   "source": [
    "## Comparaisons\n",
    "Dans cette partie, on compare les résultats que nous avons obtenu en tracking simple (sans mise à jour) avec les résultats que nous aurions obtenu en utilisant les modèles fournis. Cette comparaison ne sera faite que sur une seule vidéo du fait d'un temps de calcul relativement long."
   ]
  },
  {
   "cell_type": "code",
   "execution_count": 3,
   "metadata": {},
   "outputs": [
    {
     "name": "stderr",
     "output_type": "stream",
     "text": [
      "\n",
      "  0%|          | 0/177 [00:00<?, ?it/s]\u001b[A\n",
      " 10%|▉         | 17/177 [00:00<00:00, 168.65it/s]\u001b[A"
     ]
    },
    {
     "name": "stdout",
     "output_type": "stream",
     "text": [
      "Loading 177 frames\n"
     ]
    },
    {
     "name": "stderr",
     "output_type": "stream",
     "text": [
      "\n",
      " 23%|██▎       | 41/177 [00:00<00:00, 183.93it/s]\u001b[A\n",
      " 32%|███▏      | 56/177 [00:05<00:12,  9.81it/s] \u001b[A\n",
      " 32%|███▏      | 56/177 [00:15<00:12,  9.81it/s]\u001b[A\n",
      " 33%|███▎      | 59/177 [00:18<02:48,  1.43s/it]\u001b[A\n",
      " 34%|███▍      | 60/177 [00:22<04:14,  2.17s/it]\u001b[A\n",
      " 34%|███▍      | 61/177 [00:26<05:10,  2.67s/it]\u001b[A\n",
      " 35%|███▌      | 62/177 [00:30<05:47,  3.02s/it]\u001b[A\n",
      " 36%|███▌      | 63/177 [00:34<06:13,  3.28s/it]\u001b[A\n",
      " 36%|███▌      | 64/177 [00:38<06:36,  3.51s/it]\u001b[A\n",
      " 37%|███▋      | 65/177 [00:42<07:04,  3.79s/it]\u001b[A\n",
      " 37%|███▋      | 66/177 [00:48<08:00,  4.33s/it]\u001b[A\n",
      " 38%|███▊      | 67/177 [00:52<07:53,  4.30s/it]\u001b[A\n",
      " 38%|███▊      | 68/177 [00:57<07:59,  4.40s/it]\u001b[A\n",
      " 39%|███▉      | 69/177 [01:02<08:17,  4.60s/it]\u001b[A\n",
      " 40%|███▉      | 70/177 [01:07<08:36,  4.83s/it]\u001b[A\n",
      " 40%|████      | 71/177 [01:11<08:15,  4.68s/it]\u001b[A\n",
      " 41%|████      | 72/177 [01:16<08:03,  4.60s/it]\u001b[A\n",
      " 41%|████      | 73/177 [01:20<07:48,  4.51s/it]\u001b[A\n",
      " 42%|████▏     | 74/177 [01:24<07:35,  4.42s/it]\u001b[A\n",
      " 42%|████▏     | 75/177 [01:29<07:25,  4.36s/it]\u001b[A\n",
      " 43%|████▎     | 76/177 [01:33<07:13,  4.29s/it]\u001b[A\n",
      " 44%|████▎     | 77/177 [01:37<06:58,  4.19s/it]\u001b[A\n",
      " 44%|████▍     | 78/177 [01:41<06:48,  4.13s/it]\u001b[A\n",
      " 45%|████▍     | 79/177 [01:45<06:42,  4.11s/it]\u001b[A\n",
      " 45%|████▌     | 80/177 [01:49<06:38,  4.11s/it]\u001b[A\n",
      " 46%|████▌     | 81/177 [01:53<06:37,  4.14s/it]\u001b[A\n",
      " 46%|████▋     | 82/177 [01:57<06:32,  4.14s/it]\u001b[A\n",
      " 47%|████▋     | 83/177 [02:01<06:27,  4.12s/it]\u001b[A\n",
      " 47%|████▋     | 84/177 [02:05<06:19,  4.08s/it]\u001b[A\n",
      " 48%|████▊     | 85/177 [02:09<06:13,  4.06s/it]\u001b[A\n",
      " 49%|████▊     | 86/177 [02:13<06:08,  4.05s/it]\u001b[A\n",
      " 49%|████▉     | 87/177 [02:17<06:07,  4.08s/it]\u001b[A\n",
      " 50%|████▉     | 88/177 [02:21<06:03,  4.09s/it]\u001b[A\n",
      " 50%|█████     | 89/177 [02:26<05:59,  4.09s/it]\u001b[A\n",
      " 51%|█████     | 90/177 [02:30<05:54,  4.08s/it]\u001b[A\n",
      " 51%|█████▏    | 91/177 [02:34<05:50,  4.07s/it]\u001b[A\n",
      " 52%|█████▏    | 92/177 [02:38<05:45,  4.06s/it]\u001b[A\n",
      " 53%|█████▎    | 93/177 [02:42<05:40,  4.06s/it]\u001b[A\n",
      " 53%|█████▎    | 94/177 [02:46<05:36,  4.06s/it]\u001b[A\n",
      " 54%|█████▎    | 95/177 [02:50<05:33,  4.06s/it]\u001b[A\n",
      " 54%|█████▍    | 96/177 [02:54<05:35,  4.14s/it]\u001b[A\n",
      " 55%|█████▍    | 97/177 [02:58<05:29,  4.12s/it]\u001b[A\n",
      " 55%|█████▌    | 98/177 [03:02<05:25,  4.12s/it]\u001b[A\n",
      " 56%|█████▌    | 99/177 [03:07<05:20,  4.11s/it]\u001b[A\n",
      " 56%|█████▋    | 100/177 [03:11<05:15,  4.09s/it]\u001b[A\n",
      " 57%|█████▋    | 101/177 [03:15<05:07,  4.05s/it]\u001b[A\n",
      " 58%|█████▊    | 102/177 [03:19<05:02,  4.04s/it]\u001b[A\n",
      " 58%|█████▊    | 103/177 [03:23<04:59,  4.05s/it]\u001b[A\n",
      " 59%|█████▉    | 104/177 [03:27<04:56,  4.06s/it]\u001b[A\n",
      " 59%|█████▉    | 105/177 [03:31<04:52,  4.06s/it]\u001b[A\n",
      " 60%|█████▉    | 106/177 [03:35<04:48,  4.06s/it]\u001b[A\n",
      " 60%|██████    | 107/177 [03:39<04:45,  4.08s/it]\u001b[A\n",
      " 61%|██████    | 108/177 [03:43<04:41,  4.08s/it]\u001b[A\n",
      " 62%|██████▏   | 109/177 [03:47<04:38,  4.09s/it]\u001b[A\n",
      " 62%|██████▏   | 110/177 [03:51<04:32,  4.07s/it]\u001b[A\n",
      " 63%|██████▎   | 111/177 [03:55<04:28,  4.07s/it]\u001b[A\n",
      " 63%|██████▎   | 112/177 [03:59<04:25,  4.09s/it]\u001b[A\n",
      " 64%|██████▍   | 113/177 [04:03<04:21,  4.09s/it]\u001b[A\n",
      " 64%|██████▍   | 114/177 [04:08<04:19,  4.12s/it]\u001b[A\n",
      " 65%|██████▍   | 115/177 [04:12<04:16,  4.13s/it]\u001b[A\n",
      " 66%|██████▌   | 116/177 [04:16<04:11,  4.13s/it]\u001b[A\n",
      " 66%|██████▌   | 117/177 [04:20<04:08,  4.13s/it]\u001b[A\n",
      " 67%|██████▋   | 118/177 [04:24<04:03,  4.12s/it]\u001b[A\n",
      " 67%|██████▋   | 119/177 [04:28<03:58,  4.11s/it]\u001b[A\n",
      " 68%|██████▊   | 120/177 [04:32<03:54,  4.11s/it]\u001b[A\n",
      " 68%|██████▊   | 121/177 [04:37<03:51,  4.14s/it]\u001b[A\n",
      " 69%|██████▉   | 122/177 [04:41<03:48,  4.15s/it]\u001b[A\n",
      " 69%|██████▉   | 123/177 [04:45<03:46,  4.19s/it]\u001b[A\n",
      " 70%|███████   | 124/177 [04:49<03:40,  4.16s/it]\u001b[A\n",
      " 71%|███████   | 125/177 [04:53<03:35,  4.14s/it]\u001b[A\n",
      " 71%|███████   | 126/177 [04:58<03:34,  4.21s/it]\u001b[A\n",
      " 72%|███████▏  | 127/177 [05:02<03:34,  4.28s/it]\u001b[A\n",
      " 72%|███████▏  | 128/177 [05:07<03:38,  4.45s/it]\u001b[A\n",
      " 73%|███████▎  | 129/177 [05:11<03:31,  4.40s/it]\u001b[A\n",
      " 73%|███████▎  | 130/177 [05:15<03:23,  4.34s/it]\u001b[A\n",
      " 74%|███████▍  | 131/177 [05:20<03:17,  4.30s/it]\u001b[A\n",
      " 75%|███████▍  | 132/177 [05:24<03:11,  4.26s/it]\u001b[A\n",
      " 75%|███████▌  | 133/177 [05:28<03:07,  4.27s/it]\u001b[A\n",
      " 76%|███████▌  | 134/177 [05:32<03:02,  4.25s/it]\u001b[A\n",
      " 76%|███████▋  | 135/177 [05:37<02:59,  4.27s/it]\u001b[A\n",
      " 77%|███████▋  | 136/177 [05:41<02:55,  4.28s/it]\u001b[A\n",
      " 77%|███████▋  | 137/177 [05:45<02:51,  4.28s/it]\u001b[A\n",
      " 78%|███████▊  | 138/177 [05:49<02:46,  4.26s/it]\u001b[A\n",
      " 79%|███████▊  | 139/177 [05:54<02:42,  4.27s/it]\u001b[A\n",
      " 79%|███████▉  | 140/177 [05:58<02:37,  4.26s/it]\u001b[A\n",
      " 80%|███████▉  | 141/177 [06:02<02:33,  4.26s/it]\u001b[A\n",
      " 80%|████████  | 142/177 [06:07<02:33,  4.37s/it]\u001b[A\n",
      " 81%|████████  | 143/177 [06:11<02:28,  4.36s/it]\u001b[A\n",
      " 81%|████████▏ | 144/177 [06:15<02:23,  4.35s/it]\u001b[A\n",
      " 82%|████████▏ | 145/177 [06:20<02:19,  4.34s/it]\u001b[A\n",
      " 82%|████████▏ | 146/177 [06:24<02:14,  4.33s/it]\u001b[A\n",
      " 83%|████████▎ | 147/177 [06:28<02:09,  4.33s/it]\u001b[A\n",
      " 84%|████████▎ | 148/177 [06:33<02:06,  4.35s/it]\u001b[A\n",
      " 84%|████████▍ | 149/177 [06:37<02:01,  4.34s/it]\u001b[A\n",
      " 85%|████████▍ | 150/177 [06:41<01:57,  4.36s/it]\u001b[A\n",
      " 85%|████████▌ | 151/177 [06:46<01:53,  4.37s/it]\u001b[A\n",
      " 86%|████████▌ | 152/177 [06:50<01:49,  4.37s/it]\u001b[A\n",
      " 86%|████████▋ | 153/177 [06:55<01:44,  4.37s/it]\u001b[A\n",
      " 87%|████████▋ | 154/177 [06:59<01:40,  4.37s/it]\u001b[A\n",
      " 88%|████████▊ | 155/177 [07:03<01:36,  4.39s/it]\u001b[A\n",
      " 88%|████████▊ | 156/177 [07:08<01:31,  4.38s/it]\u001b[A\n",
      " 89%|████████▊ | 157/177 [07:12<01:27,  4.37s/it]\u001b[A\n",
      " 89%|████████▉ | 158/177 [07:16<01:22,  4.36s/it]\u001b[A\n",
      " 90%|████████▉ | 159/177 [07:21<01:18,  4.35s/it]\u001b[A\n",
      " 90%|█████████ | 160/177 [07:25<01:13,  4.34s/it]\u001b[A\n",
      " 91%|█████████ | 161/177 [07:29<01:09,  4.34s/it]\u001b[A\n",
      " 92%|█████████▏| 162/177 [07:34<01:05,  4.35s/it]\u001b[A\n",
      " 92%|█████████▏| 163/177 [07:38<01:00,  4.35s/it]\u001b[A\n",
      " 93%|█████████▎| 164/177 [07:43<00:56,  4.38s/it]\u001b[A\n",
      " 93%|█████████▎| 165/177 [07:47<00:52,  4.39s/it]\u001b[A\n",
      " 94%|█████████▍| 166/177 [07:51<00:48,  4.39s/it]\u001b[A\n",
      " 94%|█████████▍| 167/177 [07:56<00:43,  4.39s/it]\u001b[A\n",
      " 95%|█████████▍| 168/177 [08:00<00:39,  4.41s/it]\u001b[A\n",
      " 95%|█████████▌| 169/177 [08:05<00:35,  4.42s/it]\u001b[A\n",
      " 96%|█████████▌| 170/177 [08:09<00:31,  4.43s/it]\u001b[A\n",
      " 97%|█████████▋| 171/177 [08:14<00:26,  4.43s/it]\u001b[A\n",
      " 97%|█████████▋| 172/177 [08:18<00:22,  4.43s/it]\u001b[A\n",
      " 98%|█████████▊| 173/177 [08:22<00:17,  4.44s/it]\u001b[A\n",
      " 98%|█████████▊| 174/177 [08:27<00:13,  4.42s/it]\u001b[A\n",
      " 99%|█████████▉| 175/177 [08:31<00:08,  4.41s/it]\u001b[A\n",
      " 99%|█████████▉| 176/177 [08:36<00:04,  4.42s/it]\u001b[A\n",
      "100%|██████████| 177/177 [08:40<00:00,  2.94s/it]\u001b[A"
     ]
    },
    {
     "name": "stdout",
     "output_type": "stream",
     "text": [
      "Mean IoU: 0.06775632032573965\n"
     ]
    },
    {
     "name": "stderr",
     "output_type": "stream",
     "text": [
      "\n"
     ]
    }
   ],
   "source": [
    "model = tf.keras.models.load_model('../models/mobilenet_based__16.h5', custom_objects=None, compile=True, options=None)\n",
    "label = get_label('../VIDEOS/RicePlace6Subject4.mp4')\n",
    "_, iou = tracking(model, '../VIDEOS/RicePlace6Subject4.mp4', '../GT_test/RicePlace6Subject4_2_bboxes.txt', label, save_fig=True, name='mobilenet')\n",
    "mean_iou = np.mean(list(iou.values()))\n",
    "\n",
    "print(f'Mean IoU: {mean_iou}')"
   ]
  },
  {
   "cell_type": "code",
   "execution_count": 4,
   "metadata": {},
   "outputs": [
    {
     "name": "stderr",
     "output_type": "stream",
     "text": [
      "\n",
      "  0%|          | 0/177 [00:00<?, ?it/s]\u001b[A\n",
      " 11%|█         | 19/177 [00:00<00:00, 189.42it/s]\u001b[A"
     ]
    },
    {
     "name": "stdout",
     "output_type": "stream",
     "text": [
      "Loading 177 frames\n"
     ]
    },
    {
     "name": "stderr",
     "output_type": "stream",
     "text": [
      "\n",
      " 25%|██▍       | 44/177 [00:00<00:00, 203.50it/s]\u001b[A\n",
      " 32%|███▏      | 56/177 [00:05<00:17,  6.81it/s] \u001b[A\n",
      " 32%|███▏      | 56/177 [00:23<00:17,  6.81it/s]\u001b[A\n",
      " 34%|███▍      | 61/177 [00:26<02:38,  1.36s/it]\u001b[A\n",
      " 35%|███▌      | 62/177 [00:31<04:18,  2.25s/it]\u001b[A\n",
      " 36%|███▌      | 63/177 [00:35<05:25,  2.86s/it]\u001b[A\n",
      " 36%|███▌      | 64/177 [00:39<06:06,  3.24s/it]\u001b[A\n",
      " 37%|███▋      | 65/177 [00:43<06:33,  3.52s/it]\u001b[A\n",
      " 37%|███▋      | 66/177 [00:48<06:51,  3.71s/it]\u001b[A\n",
      " 38%|███▊      | 67/177 [00:52<07:01,  3.84s/it]\u001b[A\n",
      " 38%|███▊      | 68/177 [00:56<07:09,  3.94s/it]\u001b[A\n",
      " 39%|███▉      | 69/177 [01:00<07:14,  4.02s/it]\u001b[A\n",
      " 40%|███▉      | 70/177 [01:04<07:17,  4.09s/it]\u001b[A\n",
      " 40%|████      | 71/177 [01:09<07:18,  4.13s/it]\u001b[A\n",
      " 41%|████      | 72/177 [01:13<07:14,  4.14s/it]\u001b[A\n",
      " 41%|████      | 73/177 [01:17<07:12,  4.16s/it]\u001b[A\n",
      " 42%|████▏     | 74/177 [01:21<07:08,  4.16s/it]\u001b[A\n",
      " 42%|████▏     | 75/177 [01:25<07:03,  4.15s/it]\u001b[A\n",
      " 43%|████▎     | 76/177 [01:29<07:02,  4.18s/it]\u001b[A\n",
      " 44%|████▎     | 77/177 [01:34<06:57,  4.18s/it]\u001b[A\n",
      " 44%|████▍     | 78/177 [01:38<06:55,  4.20s/it]\u001b[A\n",
      " 45%|████▍     | 79/177 [01:42<06:48,  4.17s/it]\u001b[A\n",
      " 45%|████▌     | 80/177 [01:46<06:43,  4.16s/it]\u001b[A\n",
      " 46%|████▌     | 81/177 [01:50<06:40,  4.17s/it]\u001b[A\n",
      " 46%|████▋     | 82/177 [01:54<06:37,  4.18s/it]\u001b[A\n",
      " 47%|████▋     | 83/177 [01:59<06:34,  4.20s/it]\u001b[A\n",
      " 47%|████▋     | 84/177 [02:03<06:32,  4.22s/it]\u001b[A\n",
      " 48%|████▊     | 85/177 [02:07<06:27,  4.21s/it]\u001b[A\n",
      " 49%|████▊     | 86/177 [02:11<06:25,  4.24s/it]\u001b[A\n",
      " 49%|████▉     | 87/177 [02:16<06:22,  4.25s/it]\u001b[A\n",
      " 50%|████▉     | 88/177 [02:20<06:18,  4.26s/it]\u001b[A\n",
      " 50%|█████     | 89/177 [02:24<06:13,  4.25s/it]\u001b[A\n",
      " 51%|█████     | 90/177 [02:29<06:10,  4.26s/it]\u001b[A\n",
      " 51%|█████▏    | 91/177 [02:33<06:08,  4.29s/it]\u001b[A\n",
      " 52%|█████▏    | 92/177 [02:37<06:03,  4.28s/it]\u001b[A\n",
      " 53%|█████▎    | 93/177 [02:42<06:08,  4.39s/it]\u001b[A\n",
      " 53%|█████▎    | 94/177 [02:46<06:03,  4.38s/it]\u001b[A\n",
      " 54%|█████▎    | 95/177 [02:51<05:58,  4.37s/it]\u001b[A\n",
      " 54%|█████▍    | 96/177 [02:55<05:50,  4.33s/it]\u001b[A\n",
      " 55%|█████▍    | 97/177 [02:59<05:48,  4.35s/it]\u001b[A\n",
      " 55%|█████▌    | 98/177 [03:03<05:43,  4.34s/it]\u001b[A\n",
      " 56%|█████▌    | 99/177 [03:08<05:37,  4.32s/it]\u001b[A\n",
      " 56%|█████▋    | 100/177 [03:12<05:31,  4.30s/it]\u001b[A\n",
      " 57%|█████▋    | 101/177 [03:16<05:28,  4.32s/it]\u001b[A\n",
      " 58%|█████▊    | 102/177 [03:21<05:24,  4.33s/it]\u001b[A\n",
      " 58%|█████▊    | 103/177 [03:25<05:18,  4.30s/it]\u001b[A\n",
      " 59%|█████▉    | 104/177 [03:29<05:15,  4.32s/it]\u001b[A\n",
      " 59%|█████▉    | 105/177 [03:34<05:15,  4.38s/it]\u001b[A\n",
      " 60%|█████▉    | 106/177 [03:38<05:12,  4.40s/it]\u001b[A\n",
      " 60%|██████    | 107/177 [03:43<05:08,  4.40s/it]\u001b[A\n",
      " 61%|██████    | 108/177 [03:47<05:03,  4.40s/it]\u001b[A\n",
      " 62%|██████▏   | 109/177 [03:52<04:59,  4.41s/it]\u001b[A\n",
      " 62%|██████▏   | 110/177 [03:56<04:55,  4.41s/it]\u001b[A\n",
      " 63%|██████▎   | 111/177 [04:00<04:51,  4.42s/it]\u001b[A\n",
      " 63%|██████▎   | 112/177 [04:05<04:47,  4.43s/it]\u001b[A\n",
      " 64%|██████▍   | 113/177 [04:09<04:42,  4.41s/it]\u001b[A\n",
      " 64%|██████▍   | 114/177 [04:14<04:37,  4.41s/it]\u001b[A\n",
      " 65%|██████▍   | 115/177 [04:18<04:33,  4.42s/it]\u001b[A\n",
      " 66%|██████▌   | 116/177 [04:22<04:28,  4.41s/it]\u001b[A\n",
      " 66%|██████▌   | 117/177 [04:27<04:23,  4.39s/it]\u001b[A\n",
      " 67%|██████▋   | 118/177 [04:31<04:19,  4.41s/it]\u001b[A\n",
      " 67%|██████▋   | 119/177 [04:36<04:17,  4.43s/it]\u001b[A\n",
      " 68%|██████▊   | 120/177 [04:40<04:13,  4.44s/it]\u001b[A\n",
      " 68%|██████▊   | 121/177 [04:45<04:08,  4.44s/it]\u001b[A\n",
      " 69%|██████▉   | 122/177 [04:49<04:03,  4.44s/it]\u001b[A\n",
      " 69%|██████▉   | 123/177 [04:54<04:00,  4.44s/it]\u001b[A\n",
      " 70%|███████   | 124/177 [04:58<03:56,  4.46s/it]\u001b[A\n",
      " 71%|███████   | 125/177 [05:03<03:53,  4.48s/it]\u001b[A\n",
      " 71%|███████   | 126/177 [05:07<03:49,  4.50s/it]\u001b[A\n",
      " 72%|███████▏  | 127/177 [05:12<03:45,  4.50s/it]\u001b[A\n",
      " 72%|███████▏  | 128/177 [05:16<03:40,  4.49s/it]\u001b[A\n",
      " 73%|███████▎  | 129/177 [05:21<03:35,  4.49s/it]\u001b[A\n",
      " 73%|███████▎  | 130/177 [05:25<03:30,  4.49s/it]\u001b[A\n",
      " 74%|███████▍  | 131/177 [05:30<03:31,  4.60s/it]\u001b[A\n",
      " 75%|███████▍  | 132/177 [05:35<03:29,  4.65s/it]\u001b[A\n",
      " 75%|███████▌  | 133/177 [05:39<03:26,  4.69s/it]\u001b[A\n",
      " 76%|███████▌  | 134/177 [05:44<03:23,  4.73s/it]\u001b[A\n",
      " 76%|███████▋  | 135/177 [05:49<03:17,  4.71s/it]\u001b[A\n",
      " 77%|███████▋  | 136/177 [05:54<03:11,  4.68s/it]\u001b[A\n",
      " 77%|███████▋  | 137/177 [05:58<03:07,  4.69s/it]\u001b[A\n",
      " 78%|███████▊  | 138/177 [06:03<03:03,  4.70s/it]\u001b[A\n",
      " 79%|███████▊  | 139/177 [06:08<02:57,  4.67s/it]\u001b[A\n",
      " 79%|███████▉  | 140/177 [06:12<02:52,  4.65s/it]\u001b[A\n",
      " 80%|███████▉  | 141/177 [06:17<02:48,  4.67s/it]\u001b[A\n",
      " 80%|████████  | 142/177 [06:22<02:49,  4.84s/it]\u001b[A\n",
      " 81%|████████  | 143/177 [06:27<02:45,  4.87s/it]\u001b[A\n",
      " 81%|████████▏ | 144/177 [06:32<02:40,  4.86s/it]\u001b[A\n",
      " 82%|████████▏ | 145/177 [06:36<02:31,  4.72s/it]\u001b[A\n",
      " 82%|████████▏ | 146/177 [06:41<02:23,  4.62s/it]\u001b[A\n",
      " 83%|████████▎ | 147/177 [06:46<02:20,  4.69s/it]\u001b[A\n",
      " 84%|████████▎ | 148/177 [06:50<02:14,  4.63s/it]\u001b[A\n",
      " 84%|████████▍ | 149/177 [06:54<02:07,  4.56s/it]\u001b[A\n",
      " 85%|████████▍ | 150/177 [06:59<02:01,  4.49s/it]\u001b[A\n",
      " 85%|████████▌ | 151/177 [07:03<01:54,  4.42s/it]\u001b[A\n",
      " 86%|████████▌ | 152/177 [07:07<01:49,  4.40s/it]\u001b[A\n",
      " 86%|████████▋ | 153/177 [07:12<01:45,  4.39s/it]\u001b[A\n",
      " 87%|████████▋ | 154/177 [07:16<01:40,  4.38s/it]\u001b[A\n",
      " 88%|████████▊ | 155/177 [07:20<01:35,  4.36s/it]\u001b[A\n",
      " 88%|████████▊ | 156/177 [07:25<01:31,  4.36s/it]\u001b[A\n",
      " 89%|████████▊ | 157/177 [07:29<01:27,  4.36s/it]\u001b[A\n",
      " 89%|████████▉ | 158/177 [07:33<01:22,  4.35s/it]\u001b[A\n",
      " 90%|████████▉ | 159/177 [07:38<01:18,  4.34s/it]\u001b[A\n",
      " 90%|█████████ | 160/177 [07:42<01:13,  4.33s/it]\u001b[A\n",
      " 91%|█████████ | 161/177 [07:46<01:09,  4.32s/it]\u001b[A\n",
      " 92%|█████████▏| 162/177 [07:51<01:04,  4.30s/it]\u001b[A\n",
      " 92%|█████████▏| 163/177 [07:55<01:00,  4.30s/it]\u001b[A\n",
      " 93%|█████████▎| 164/177 [07:59<00:56,  4.31s/it]\u001b[A\n",
      " 93%|█████████▎| 165/177 [08:04<00:51,  4.30s/it]\u001b[A\n",
      " 94%|█████████▍| 166/177 [08:08<00:47,  4.30s/it]\u001b[A\n",
      " 94%|█████████▍| 167/177 [08:12<00:43,  4.30s/it]\u001b[A\n",
      " 95%|█████████▍| 168/177 [08:16<00:38,  4.30s/it]\u001b[A\n",
      " 95%|█████████▌| 169/177 [08:21<00:34,  4.32s/it]\u001b[A\n",
      " 96%|█████████▌| 170/177 [08:25<00:30,  4.33s/it]\u001b[A\n",
      " 97%|█████████▋| 171/177 [08:29<00:25,  4.33s/it]\u001b[A\n",
      " 97%|█████████▋| 172/177 [08:34<00:21,  4.34s/it]\u001b[A\n",
      " 98%|█████████▊| 173/177 [08:38<00:17,  4.35s/it]\u001b[A\n",
      " 98%|█████████▊| 174/177 [08:43<00:13,  4.36s/it]\u001b[A\n",
      " 99%|█████████▉| 175/177 [08:47<00:08,  4.36s/it]\u001b[A\n",
      " 99%|█████████▉| 176/177 [08:51<00:04,  4.36s/it]\u001b[A\n",
      "100%|██████████| 177/177 [08:56<00:00,  3.03s/it]\u001b[A"
     ]
    },
    {
     "name": "stdout",
     "output_type": "stream",
     "text": [
      "Mean IoU: 0.04415279712140601\n"
     ]
    },
    {
     "name": "stderr",
     "output_type": "stream",
     "text": [
      "\n"
     ]
    }
   ],
   "source": [
    "model = tf.keras.models.load_model('../models/mobilenetv2_based__6.h5', custom_objects=None, compile=True, options=None)\n",
    "label = get_label('../VIDEOS/RicePlace6Subject4.mp4')\n",
    "_, iou = tracking(model, '../VIDEOS/RicePlace6Subject4.mp4', '../GT_test/RicePlace6Subject4_2_bboxes.txt', label, save_fig=True, name='mobilenetV2')\n",
    "mean_iou = np.mean(list(iou.values()))\n",
    "\n",
    "print(f'Mean IoU: {mean_iou}')"
   ]
  },
  {
   "cell_type": "markdown",
   "metadata": {},
   "source": [
    "### OpenCV Tracker\n",
    "La bibliothèque OpenCV propose nativement des trackers que nous avons également comparé au notre. Nous en avons essayé trois, qui présentent des performances différentes."
   ]
  },
  {
   "cell_type": "code",
   "execution_count": 6,
   "metadata": {},
   "outputs": [
    {
     "name": "stderr",
     "output_type": "stream",
     "text": [
      "\n",
      "  0%|          | 0/177 [00:00<?, ?it/s]\u001b[A\n",
      "  8%|▊         | 14/177 [00:00<00:01, 137.35it/s]\u001b[A"
     ]
    },
    {
     "name": "stdout",
     "output_type": "stream",
     "text": [
      "Loading 177 frames\n"
     ]
    },
    {
     "name": "stderr",
     "output_type": "stream",
     "text": [
      "\n",
      " 23%|██▎       | 40/177 [00:00<00:00, 159.22it/s]\u001b[A\n",
      " 32%|███▏      | 56/177 [00:00<00:00, 151.56it/s]\u001b[A\n",
      " 38%|███▊      | 68/177 [00:00<00:00, 126.34it/s]\u001b[A\n",
      " 45%|████▍     | 79/177 [00:00<00:00, 113.08it/s]\u001b[A\n",
      " 51%|█████     | 90/177 [00:00<00:00, 102.88it/s]\u001b[A\n",
      " 57%|█████▋    | 101/177 [00:00<00:00, 102.57it/s]\u001b[A\n",
      " 63%|██████▎   | 111/177 [00:00<00:00, 99.03it/s] \u001b[A\n",
      " 68%|██████▊   | 121/177 [00:01<00:00, 98.55it/s]\u001b[A\n",
      " 74%|███████▍  | 131/177 [00:01<00:00, 98.65it/s]\u001b[A\n",
      " 82%|████████▏ | 145/177 [00:01<00:00, 108.13it/s]\u001b[A\n",
      " 90%|████████▉ | 159/177 [00:01<00:00, 115.59it/s]\u001b[A\n",
      "100%|██████████| 177/177 [00:01<00:00, 121.49it/s]\u001b[A\n"
     ]
    },
    {
     "data": {
      "text/plain": [
       "0.25488313131166607"
      ]
     },
     "execution_count": 6,
     "metadata": {},
     "output_type": "execute_result"
    }
   ],
   "source": [
    "tracker_open_cvmodel('../VIDEOS/RicePlace6Subject4.mp4', '../GT_test/RicePlace6Subject4_2_bboxes.txt', 'kcf')"
   ]
  },
  {
   "cell_type": "code",
   "execution_count": 7,
   "metadata": {},
   "outputs": [
    {
     "name": "stderr",
     "output_type": "stream",
     "text": [
      "\n",
      "  0%|          | 0/177 [00:00<?, ?it/s]\u001b[A\n",
      " 10%|█         | 18/177 [00:00<00:00, 179.42it/s]\u001b[A"
     ]
    },
    {
     "name": "stdout",
     "output_type": "stream",
     "text": [
      "Loading 177 frames\n"
     ]
    },
    {
     "name": "stderr",
     "output_type": "stream",
     "text": [
      "\n",
      " 25%|██▌       | 45/177 [00:00<00:00, 198.95it/s]\u001b[A\n",
      " 32%|███▏      | 57/177 [00:00<00:01, 106.74it/s]\u001b[A\n",
      " 38%|███▊      | 67/177 [00:01<00:02, 40.85it/s] \u001b[A\n",
      " 42%|████▏     | 75/177 [00:01<00:03, 28.24it/s]\u001b[A\n",
      " 46%|████▌     | 81/177 [00:01<00:04, 22.84it/s]\u001b[A\n",
      " 49%|████▊     | 86/177 [00:02<00:04, 20.15it/s]\u001b[A\n",
      " 51%|█████     | 90/177 [00:02<00:04, 18.47it/s]\u001b[A\n",
      " 53%|█████▎    | 93/177 [00:02<00:04, 17.18it/s]\u001b[A\n",
      " 54%|█████▍    | 96/177 [00:02<00:04, 16.52it/s]\u001b[A\n",
      " 56%|█████▌    | 99/177 [00:03<00:04, 16.07it/s]\u001b[A\n",
      " 58%|█████▊    | 102/177 [00:03<00:04, 15.72it/s]\u001b[A\n",
      " 59%|█████▉    | 104/177 [00:03<00:04, 15.42it/s]\u001b[A\n",
      " 60%|█████▉    | 106/177 [00:03<00:04, 15.23it/s]\u001b[A\n",
      " 61%|██████    | 108/177 [00:03<00:04, 15.37it/s]\u001b[A\n",
      " 62%|██████▏   | 110/177 [00:03<00:04, 15.33it/s]\u001b[A\n",
      " 63%|██████▎   | 112/177 [00:03<00:04, 15.36it/s]\u001b[A\n",
      " 64%|██████▍   | 114/177 [00:04<00:04, 15.67it/s]\u001b[A\n",
      " 66%|██████▌   | 116/177 [00:04<00:03, 15.89it/s]\u001b[A\n",
      " 67%|██████▋   | 118/177 [00:04<00:03, 16.08it/s]\u001b[A\n",
      " 68%|██████▊   | 120/177 [00:04<00:03, 16.28it/s]\u001b[A\n",
      " 69%|██████▉   | 122/177 [00:04<00:03, 16.37it/s]\u001b[A\n",
      " 70%|███████   | 124/177 [00:04<00:03, 16.48it/s]\u001b[A\n",
      " 71%|███████   | 126/177 [00:04<00:03, 16.43it/s]\u001b[A\n",
      " 72%|███████▏  | 128/177 [00:04<00:02, 16.46it/s]\u001b[A\n",
      " 73%|███████▎  | 130/177 [00:05<00:02, 16.50it/s]\u001b[A\n",
      " 75%|███████▍  | 132/177 [00:05<00:02, 16.51it/s]\u001b[A\n",
      " 76%|███████▌  | 134/177 [00:05<00:02, 16.32it/s]\u001b[A\n",
      " 77%|███████▋  | 136/177 [00:05<00:02, 16.34it/s]\u001b[A\n",
      " 78%|███████▊  | 138/177 [00:05<00:02, 16.51it/s]\u001b[A\n",
      " 79%|███████▉  | 140/177 [00:05<00:02, 16.68it/s]\u001b[A\n",
      " 80%|████████  | 142/177 [00:05<00:02, 16.76it/s]\u001b[A\n",
      " 81%|████████▏ | 144/177 [00:05<00:01, 16.82it/s]\u001b[A\n",
      " 82%|████████▏ | 146/177 [00:05<00:01, 16.51it/s]\u001b[A\n",
      " 84%|████████▎ | 148/177 [00:06<00:01, 16.65it/s]\u001b[A\n",
      " 85%|████████▍ | 150/177 [00:06<00:01, 16.74it/s]\u001b[A\n",
      " 86%|████████▌ | 152/177 [00:06<00:01, 16.74it/s]\u001b[A\n",
      " 87%|████████▋ | 154/177 [00:06<00:01, 16.81it/s]\u001b[A\n",
      " 88%|████████▊ | 156/177 [00:06<00:01, 16.62it/s]\u001b[A\n",
      " 89%|████████▉ | 158/177 [00:06<00:01, 16.58it/s]\u001b[A\n",
      " 90%|█████████ | 160/177 [00:06<00:01, 16.67it/s]\u001b[A\n",
      " 92%|█████████▏| 162/177 [00:06<00:00, 16.55it/s]\u001b[A\n",
      " 93%|█████████▎| 164/177 [00:07<00:00, 16.55it/s]\u001b[A\n",
      " 94%|█████████▍| 166/177 [00:07<00:00, 16.51it/s]\u001b[A\n",
      " 95%|█████████▍| 168/177 [00:07<00:00, 16.50it/s]\u001b[A\n",
      " 96%|█████████▌| 170/177 [00:07<00:00, 16.49it/s]\u001b[A\n",
      " 97%|█████████▋| 172/177 [00:07<00:00, 16.56it/s]\u001b[A\n",
      " 98%|█████████▊| 174/177 [00:07<00:00, 16.55it/s]\u001b[A\n",
      "100%|██████████| 177/177 [00:07<00:00, 22.54it/s]\u001b[A\n"
     ]
    },
    {
     "data": {
      "text/plain": [
       "0.43499035966551447"
      ]
     },
     "execution_count": 7,
     "metadata": {},
     "output_type": "execute_result"
    }
   ],
   "source": [
    "tracker_open_cvmodel('../VIDEOS/RicePlace6Subject4.mp4', '../GT_test/RicePlace6Subject4_2_bboxes.txt', 'csrt')"
   ]
  },
  {
   "cell_type": "code",
   "execution_count": 8,
   "metadata": {},
   "outputs": [
    {
     "name": "stderr",
     "output_type": "stream",
     "text": [
      "\n",
      "  0%|          | 0/177 [00:00<?, ?it/s]\u001b[A\n",
      " 11%|█▏        | 20/177 [00:00<00:00, 195.67it/s]\u001b[A"
     ]
    },
    {
     "name": "stdout",
     "output_type": "stream",
     "text": [
      "Loading 177 frames\n"
     ]
    },
    {
     "name": "stderr",
     "output_type": "stream",
     "text": [
      "\n",
      " 27%|██▋       | 47/177 [00:00<00:00, 212.66it/s]\u001b[A\n",
      " 34%|███▍      | 60/177 [00:00<00:01, 91.29it/s] \u001b[A\n",
      " 40%|███▉      | 70/177 [00:01<00:02, 42.47it/s]\u001b[A\n",
      " 44%|████▍     | 78/177 [00:01<00:03, 30.42it/s]\u001b[A\n",
      " 47%|████▋     | 84/177 [00:01<00:03, 25.83it/s]\u001b[A\n",
      " 50%|█████     | 89/177 [00:02<00:03, 23.23it/s]\u001b[A\n",
      " 53%|█████▎    | 93/177 [00:02<00:03, 21.68it/s]\u001b[A\n",
      " 55%|█████▍    | 97/177 [00:02<00:03, 20.79it/s]\u001b[A\n",
      " 56%|█████▋    | 100/177 [00:02<00:03, 19.75it/s]\u001b[A\n",
      " 58%|█████▊    | 103/177 [00:02<00:03, 19.35it/s]\u001b[A\n",
      " 60%|█████▉    | 106/177 [00:03<00:03, 18.61it/s]\u001b[A\n",
      " 62%|██████▏   | 109/177 [00:03<00:03, 18.49it/s]\u001b[A\n",
      " 63%|██████▎   | 112/177 [00:03<00:03, 18.56it/s]\u001b[A\n",
      " 64%|██████▍   | 114/177 [00:03<00:03, 17.91it/s]\u001b[A\n",
      " 66%|██████▌   | 116/177 [00:03<00:03, 18.26it/s]\u001b[A\n",
      " 67%|██████▋   | 118/177 [00:03<00:03, 18.31it/s]\u001b[A\n",
      " 68%|██████▊   | 120/177 [00:03<00:03, 17.91it/s]\u001b[A\n",
      " 69%|██████▉   | 122/177 [00:03<00:03, 18.07it/s]\u001b[A\n",
      " 70%|███████   | 124/177 [00:04<00:02, 18.03it/s]\u001b[A\n",
      " 71%|███████   | 126/177 [00:04<00:02, 18.46it/s]\u001b[A\n",
      " 72%|███████▏  | 128/177 [00:04<00:02, 18.66it/s]\u001b[A\n",
      " 73%|███████▎  | 130/177 [00:04<00:02, 17.93it/s]\u001b[A\n",
      " 75%|███████▍  | 132/177 [00:04<00:02, 18.01it/s]\u001b[A\n",
      " 76%|███████▌  | 134/177 [00:04<00:02, 17.57it/s]\u001b[A\n",
      " 77%|███████▋  | 136/177 [00:04<00:02, 17.81it/s]\u001b[A\n",
      " 78%|███████▊  | 138/177 [00:04<00:02, 17.73it/s]\u001b[A\n",
      " 79%|███████▉  | 140/177 [00:04<00:02, 17.74it/s]\u001b[A\n",
      " 80%|████████  | 142/177 [00:05<00:02, 17.36it/s]\u001b[A\n",
      " 81%|████████▏ | 144/177 [00:05<00:01, 17.54it/s]\u001b[A\n",
      " 82%|████████▏ | 146/177 [00:05<00:01, 17.50it/s]\u001b[A\n",
      " 84%|████████▎ | 148/177 [00:05<00:01, 17.22it/s]\u001b[A\n",
      " 85%|████████▍ | 150/177 [00:05<00:01, 17.00it/s]\u001b[A\n",
      " 86%|████████▌ | 152/177 [00:05<00:01, 17.08it/s]\u001b[A\n",
      " 87%|████████▋ | 154/177 [00:05<00:01, 17.03it/s]\u001b[A\n",
      " 88%|████████▊ | 156/177 [00:05<00:01, 16.95it/s]\u001b[A\n",
      " 89%|████████▉ | 158/177 [00:05<00:01, 17.02it/s]\u001b[A\n",
      " 90%|█████████ | 160/177 [00:06<00:01, 16.93it/s]\u001b[A\n",
      " 92%|█████████▏| 162/177 [00:06<00:00, 17.24it/s]\u001b[A\n",
      " 93%|█████████▎| 164/177 [00:06<00:00, 17.41it/s]\u001b[A\n",
      " 94%|█████████▍| 166/177 [00:06<00:00, 17.29it/s]\u001b[A\n",
      " 95%|█████████▍| 168/177 [00:06<00:00, 17.56it/s]\u001b[A\n",
      " 96%|█████████▌| 170/177 [00:06<00:00, 17.60it/s]\u001b[A\n",
      " 97%|█████████▋| 172/177 [00:06<00:00, 17.74it/s]\u001b[A\n",
      " 98%|█████████▊| 174/177 [00:06<00:00, 18.19it/s]\u001b[A\n",
      "100%|██████████| 177/177 [00:07<00:00, 25.18it/s]\u001b[A\n"
     ]
    },
    {
     "data": {
      "text/plain": [
       "0.29130459375165046"
      ]
     },
     "execution_count": 8,
     "metadata": {},
     "output_type": "execute_result"
    }
   ],
   "source": [
    "tracker_open_cvmodel('../VIDEOS/RicePlace6Subject4.mp4', '../GT_test/RicePlace6Subject4_2_bboxes.txt', 'mil')"
   ]
  },
  {
   "cell_type": "code",
   "execution_count": 12,
   "metadata": {},
   "outputs": [
    {
     "name": "stdout",
     "output_type": "stream",
     "text": [
      "Video 0 on 17 - CanOfCocaColaPlace5Subject2_2_bboxes.txt\n",
      "Video 1 on 17 - RicePlace7Subject3_2_bboxes.txt\n",
      "Video 2 on 17 - BowlPlace5Subject3_2_bboxes.txt\n",
      "Video 3 on 17 - MilkBottlePlace4Subject4_2_bboxes.txt\n",
      "Video 4 on 17 - MilkBottlePlace1Subject4_2_bboxes.txt\n",
      "Video 5 on 17 - SugarPlace2Subject2_2_bboxes.txt\n",
      "Video 6 on 17 - RicePlace2Subject2_2_bboxes.txt\n",
      "Video 7 on 17 - RicePlace6Subject4_2_bboxes.txt\n",
      "Video 8 on 17 - SugarPlace6Subject4_2_bboxes.txt\n",
      "Video 9 on 17 - BowlPlace1Subject4_2_bboxes.txt\n",
      "Video 10 on 17 - RicePlace3Subject3_2_bboxes.txt\n",
      "Video 11 on 17 - BowlPlace4Subject4_2_bboxes.txt\n",
      "Video 12 on 17 - SugarPlace3Subject5_2_bboxes.txt\n",
      "Video 13 on 17 - RicePlace5Subject2_2_bboxes.txt\n",
      "Video 14 on 17 - CanOfCocaColaPlace7Subject3_2_bboxes.txt\n",
      "Video 15 on 17 - CanOfCocaColaPlace2Subject4_2_bboxes.txt\n",
      "Video 16 on 17 - BowlPlace5Subject3_2_bboxes.txt_pred.txt\n",
      "Video 17 on 17 - SugarPlace5Subject3_2_bboxes.txt\n",
      "Video 18 on 17 - MilkBottlePlace2Subject5_2_bboxes.txt\n",
      "Video 19 on 17 - CanOfCocaColaPlace6Subject4_2_bboxes.txt\n",
      "Video 20 on 17 - RicePlace4Subject2_2_bboxes.txt\n",
      "Video 21 on 17 - SugarPlace1Subject2_2_bboxes.txt\n",
      "Video 22 on 17 - CanOfCocaColaPlace3Subject4_2_bboxes.txt\n",
      "Video 23 on 17 - RicePlace1Subject2_2_bboxes.txt\n",
      "Video 24 on 17 - MilkBottlePlace7Subject3_2_bboxes.txt\n",
      "Video 25 on 17 - BowlPlace6Subject4_2_bboxes.txt\n"
     ]
    }
   ],
   "source": [
    "i = 0\n",
    "for file in listdir(\"../GT_test\"):\n",
    "    if file.endswith(\".txt\"):\n",
    "        print(f'Video {i} on {len(listdir(\"../\"))} - {file}')\n",
    "        i += 1"
   ]
  },
  {
   "cell_type": "code",
   "execution_count": null,
   "metadata": {},
   "outputs": [
    {
     "name": "stderr",
     "output_type": "stream",
     "text": [
      "  5%|▌         | 10/195 [00:00<00:01, 98.27it/s]"
     ]
    },
    {
     "name": "stdout",
     "output_type": "stream",
     "text": [
      "Loading 195 frames\n"
     ]
    },
    {
     "name": "stderr",
     "output_type": "stream",
     "text": [
      " 32%|███▏      | 62/195 [01:35<10:59,  4.96s/it] "
     ]
    }
   ],
   "source": [
    "file = 'SugarPlace5Subject3_2_bboxes.txt'\n",
    "model = tf.keras.models.load_model('../models/best_models', custom_objects=None, compile=True, options=None)\n",
    "\n",
    "m = re.search('(.+)_._bboxes\\.txt', file)\n",
    "name = m.group(1)\n",
    "\n",
    "path_video = path.join('..', 'VIDEOS', name + '.mp4')\n",
    "path_boxes = path.join('..', 'GT_test', file)\n",
    "\n",
    "label = get_label(path_video)\n",
    "predictions, iou = tracking(model, path_video, path_boxes, label, update=None, save_fig=True)"
   ]
  },
  {
   "cell_type": "code",
   "execution_count": null,
   "metadata": {},
   "outputs": [],
   "source": []
  }
 ],
 "metadata": {
  "kernelspec": {
   "display_name": "Python 3",
   "language": "python",
   "name": "python3"
  },
  "language_info": {
   "codemirror_mode": {
    "name": "ipython",
    "version": 3
   },
   "file_extension": ".py",
   "mimetype": "text/x-python",
   "name": "python",
   "nbconvert_exporter": "python",
   "pygments_lexer": "ipython3",
   "version": "3.8.6"
  }
 },
 "nbformat": 4,
 "nbformat_minor": 4
}
